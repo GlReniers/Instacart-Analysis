{
 "cells": [
  {
   "cell_type": "markdown",
   "id": "e55664df",
   "metadata": {},
   "source": [
    "# 1. Import libraries and Data\n"
   ]
  },
  {
   "cell_type": "code",
   "execution_count": 1,
   "id": "29a51744",
   "metadata": {},
   "outputs": [],
   "source": [
    "import pandas as pd\n",
    "import numpy as np\n",
    "import os\n",
    "import matplotlib.pyplot as plt\n",
    "import seaborn as sns\n",
    "import scipy"
   ]
  },
  {
   "cell_type": "code",
   "execution_count": 2,
   "id": "93052c54",
   "metadata": {},
   "outputs": [
    {
     "data": {
      "text/plain": [
       "'/Users/gwynreniers/Documents/Instacart Analysis'"
      ]
     },
     "execution_count": 2,
     "metadata": {},
     "output_type": "execute_result"
    }
   ],
   "source": [
    "#Create project path\n",
    "path = r'/Users/gwynreniers/Documents/Instacart Analysis'\n",
    "path"
   ]
  },
  {
   "cell_type": "code",
   "execution_count": 3,
   "id": "9b80618f",
   "metadata": {},
   "outputs": [],
   "source": [
    "df = pd.read_pickle(os.path.join(path,'02 Data','Prepared Data','full_instacart_data.pkl'))"
   ]
  },
  {
   "cell_type": "code",
   "execution_count": 5,
   "id": "d8739f66",
   "metadata": {},
   "outputs": [
    {
     "data": {
      "text/html": [
       "<div>\n",
       "<style scoped>\n",
       "    .dataframe tbody tr th:only-of-type {\n",
       "        vertical-align: middle;\n",
       "    }\n",
       "\n",
       "    .dataframe tbody tr th {\n",
       "        vertical-align: top;\n",
       "    }\n",
       "\n",
       "    .dataframe thead th {\n",
       "        text-align: right;\n",
       "    }\n",
       "</style>\n",
       "<table border=\"1\" class=\"dataframe\">\n",
       "  <thead>\n",
       "    <tr style=\"text-align: right;\">\n",
       "      <th></th>\n",
       "      <th>order_id</th>\n",
       "      <th>user_id</th>\n",
       "      <th>eval_set</th>\n",
       "      <th>order_number</th>\n",
       "      <th>orders_day_of_week</th>\n",
       "      <th>order_hour_of_day</th>\n",
       "      <th>days_since_prior_order</th>\n",
       "      <th>product_id</th>\n",
       "      <th>add_to_cart_order</th>\n",
       "      <th>reordered</th>\n",
       "      <th>...</th>\n",
       "      <th>Frequency_flag</th>\n",
       "      <th>first_name</th>\n",
       "      <th>surname</th>\n",
       "      <th>gender</th>\n",
       "      <th>state</th>\n",
       "      <th>age</th>\n",
       "      <th>date_joined</th>\n",
       "      <th>no_of_dependants</th>\n",
       "      <th>marital_status</th>\n",
       "      <th>income</th>\n",
       "    </tr>\n",
       "  </thead>\n",
       "  <tbody>\n",
       "    <tr>\n",
       "      <th>0</th>\n",
       "      <td>2539329</td>\n",
       "      <td>1</td>\n",
       "      <td>prior</td>\n",
       "      <td>1</td>\n",
       "      <td>2</td>\n",
       "      <td>8</td>\n",
       "      <td>NaN</td>\n",
       "      <td>196</td>\n",
       "      <td>1</td>\n",
       "      <td>0</td>\n",
       "      <td>...</td>\n",
       "      <td>Frequent customer</td>\n",
       "      <td>Linda</td>\n",
       "      <td>Nguyen</td>\n",
       "      <td>Female</td>\n",
       "      <td>Alabama</td>\n",
       "      <td>31</td>\n",
       "      <td>2/17/2019</td>\n",
       "      <td>3</td>\n",
       "      <td>married</td>\n",
       "      <td>40423</td>\n",
       "    </tr>\n",
       "    <tr>\n",
       "      <th>1</th>\n",
       "      <td>2398795</td>\n",
       "      <td>1</td>\n",
       "      <td>prior</td>\n",
       "      <td>2</td>\n",
       "      <td>3</td>\n",
       "      <td>7</td>\n",
       "      <td>15.0</td>\n",
       "      <td>196</td>\n",
       "      <td>1</td>\n",
       "      <td>1</td>\n",
       "      <td>...</td>\n",
       "      <td>Frequent customer</td>\n",
       "      <td>Linda</td>\n",
       "      <td>Nguyen</td>\n",
       "      <td>Female</td>\n",
       "      <td>Alabama</td>\n",
       "      <td>31</td>\n",
       "      <td>2/17/2019</td>\n",
       "      <td>3</td>\n",
       "      <td>married</td>\n",
       "      <td>40423</td>\n",
       "    </tr>\n",
       "    <tr>\n",
       "      <th>2</th>\n",
       "      <td>473747</td>\n",
       "      <td>1</td>\n",
       "      <td>prior</td>\n",
       "      <td>3</td>\n",
       "      <td>3</td>\n",
       "      <td>12</td>\n",
       "      <td>21.0</td>\n",
       "      <td>196</td>\n",
       "      <td>1</td>\n",
       "      <td>1</td>\n",
       "      <td>...</td>\n",
       "      <td>Frequent customer</td>\n",
       "      <td>Linda</td>\n",
       "      <td>Nguyen</td>\n",
       "      <td>Female</td>\n",
       "      <td>Alabama</td>\n",
       "      <td>31</td>\n",
       "      <td>2/17/2019</td>\n",
       "      <td>3</td>\n",
       "      <td>married</td>\n",
       "      <td>40423</td>\n",
       "    </tr>\n",
       "    <tr>\n",
       "      <th>3</th>\n",
       "      <td>2254736</td>\n",
       "      <td>1</td>\n",
       "      <td>prior</td>\n",
       "      <td>4</td>\n",
       "      <td>4</td>\n",
       "      <td>7</td>\n",
       "      <td>29.0</td>\n",
       "      <td>196</td>\n",
       "      <td>1</td>\n",
       "      <td>1</td>\n",
       "      <td>...</td>\n",
       "      <td>Frequent customer</td>\n",
       "      <td>Linda</td>\n",
       "      <td>Nguyen</td>\n",
       "      <td>Female</td>\n",
       "      <td>Alabama</td>\n",
       "      <td>31</td>\n",
       "      <td>2/17/2019</td>\n",
       "      <td>3</td>\n",
       "      <td>married</td>\n",
       "      <td>40423</td>\n",
       "    </tr>\n",
       "    <tr>\n",
       "      <th>4</th>\n",
       "      <td>431534</td>\n",
       "      <td>1</td>\n",
       "      <td>prior</td>\n",
       "      <td>5</td>\n",
       "      <td>4</td>\n",
       "      <td>15</td>\n",
       "      <td>28.0</td>\n",
       "      <td>196</td>\n",
       "      <td>1</td>\n",
       "      <td>1</td>\n",
       "      <td>...</td>\n",
       "      <td>Frequent customer</td>\n",
       "      <td>Linda</td>\n",
       "      <td>Nguyen</td>\n",
       "      <td>Female</td>\n",
       "      <td>Alabama</td>\n",
       "      <td>31</td>\n",
       "      <td>2/17/2019</td>\n",
       "      <td>3</td>\n",
       "      <td>married</td>\n",
       "      <td>40423</td>\n",
       "    </tr>\n",
       "  </tbody>\n",
       "</table>\n",
       "<p>5 rows × 34 columns</p>\n",
       "</div>"
      ],
      "text/plain": [
       "   order_id user_id eval_set  order_number  orders_day_of_week  \\\n",
       "0   2539329       1    prior             1                   2   \n",
       "1   2398795       1    prior             2                   3   \n",
       "2    473747       1    prior             3                   3   \n",
       "3   2254736       1    prior             4                   4   \n",
       "4    431534       1    prior             5                   4   \n",
       "\n",
       "   order_hour_of_day  days_since_prior_order  product_id  add_to_cart_order  \\\n",
       "0                  8                     NaN         196                  1   \n",
       "1                  7                    15.0         196                  1   \n",
       "2                 12                    21.0         196                  1   \n",
       "3                  7                    29.0         196                  1   \n",
       "4                 15                    28.0         196                  1   \n",
       "\n",
       "   reordered  ...     Frequency_flag  first_name  surname  gender    state  \\\n",
       "0          0  ...  Frequent customer       Linda   Nguyen  Female  Alabama   \n",
       "1          1  ...  Frequent customer       Linda   Nguyen  Female  Alabama   \n",
       "2          1  ...  Frequent customer       Linda   Nguyen  Female  Alabama   \n",
       "3          1  ...  Frequent customer       Linda   Nguyen  Female  Alabama   \n",
       "4          1  ...  Frequent customer       Linda   Nguyen  Female  Alabama   \n",
       "\n",
       "  age date_joined no_of_dependants marital_status  income  \n",
       "0  31   2/17/2019                3        married   40423  \n",
       "1  31   2/17/2019                3        married   40423  \n",
       "2  31   2/17/2019                3        married   40423  \n",
       "3  31   2/17/2019                3        married   40423  \n",
       "4  31   2/17/2019                3        married   40423  \n",
       "\n",
       "[5 rows x 34 columns]"
      ]
     },
     "execution_count": 5,
     "metadata": {},
     "output_type": "execute_result"
    }
   ],
   "source": [
    "df.head()"
   ]
  },
  {
   "cell_type": "markdown",
   "id": "a572ae2e",
   "metadata": {},
   "source": [
    "## 2. Visual Analysis"
   ]
  },
  {
   "cell_type": "markdown",
   "id": "4060cbed",
   "metadata": {},
   "source": [
    "### Exercise examples"
   ]
  },
  {
   "cell_type": "code",
   "execution_count": 6,
   "id": "772807cc",
   "metadata": {},
   "outputs": [
    {
     "data": {
      "image/png": "[encoded data removed]",
      "text/plain": [
       "<Figure size 432x288 with 1 Axes>"
      ]
     },
     "metadata": {
      "needs_background": "light"
     },
     "output_type": "display_data"
    }
   ],
   "source": [
    "# Create a bar chart sorted on index (0-6)\n",
    "bar = df['orders_day_of_week'].value_counts().sort_index().plot.bar()"
   ]
  },
  {
   "cell_type": "code",
   "execution_count": 19,
   "id": "0ff2d5ca",
   "metadata": {},
   "outputs": [],
   "source": [
    "# Creating histogram to show frequency of prices\n",
    "df.loc[df['prices'] >100, 'prices'] = np.nan"
   ]
  },
  {
   "cell_type": "code",
   "execution_count": 20,
   "id": "4341d861",
   "metadata": {},
   "outputs": [
    {
     "data": {
      "text/plain": [
       "25.0"
      ]
     },
     "execution_count": 20,
     "metadata": {},
     "output_type": "execute_result"
    }
   ],
   "source": [
    "df['prices'].max()"
   ]
  },
  {
   "cell_type": "code",
   "execution_count": 25,
   "id": "3f445ee4",
   "metadata": {},
   "outputs": [
    {
     "data": {
      "image/png": "[encoded data removed]",
      "text/plain": [
       "<Figure size 432x288 with 1 Axes>"
      ]
     },
     "metadata": {
      "needs_background": "light"
     },
     "output_type": "display_data"
    }
   ],
   "source": [
    "hist = df['prices'].plot.hist(bins = 50, color = 'green')"
   ]
  },
  {
   "cell_type": "code",
   "execution_count": 8,
   "id": "36b8c6c0",
   "metadata": {},
   "outputs": [
    {
     "data": {
      "image/png": "[encoded data removed]",
      "text/plain": [
       "<Figure size 432x288 with 1 Axes>"
      ]
     },
     "metadata": {
      "needs_background": "light"
     },
     "output_type": "display_data"
    }
   ],
   "source": [
    "# Creating scatterplot\n",
    "scatter1 = sns.scatterplot(x = 'prices', y = 'prices',data = df)"
   ]
  },
  {
   "cell_type": "code",
   "execution_count": 26,
   "id": "9a71ddca",
   "metadata": {},
   "outputs": [],
   "source": [
    "# Create a line chart using subset"
   ]
  },
  {
   "cell_type": "code",
   "execution_count": 27,
   "id": "8c0cd2a5",
   "metadata": {},
   "outputs": [],
   "source": [
    "# Create a list holding true/false values to test np.random.rand() <=0.7\n",
    "np.random.seed(4)\n",
    "dev = np.random.rand(len(df)) <= 0.7"
   ]
  },
  {
   "cell_type": "code",
   "execution_count": 28,
   "id": "a60aa16b",
   "metadata": {},
   "outputs": [
    {
     "data": {
      "text/plain": [
       "array([False,  True, False, ...,  True,  True,  True])"
      ]
     },
     "execution_count": 28,
     "metadata": {},
     "output_type": "execute_result"
    }
   ],
   "source": [
    "# dev is the boolean list of true/false\n",
    "dev"
   ]
  },
  {
   "cell_type": "code",
   "execution_count": 29,
   "id": "df1fb160",
   "metadata": {},
   "outputs": [],
   "source": [
    "# Store 70% of the sample in data frame: big\n",
    "big = df[dev]"
   ]
  },
  {
   "cell_type": "code",
   "execution_count": 36,
   "id": "15eec290",
   "metadata": {},
   "outputs": [],
   "source": [
    "# Store 30% of the sample in data frame: small\n",
    "small = df[~dev]"
   ]
  },
  {
   "cell_type": "code",
   "execution_count": 37,
   "id": "49cc6a99",
   "metadata": {},
   "outputs": [
    {
     "data": {
      "text/plain": [
       "32404859"
      ]
     },
     "execution_count": 37,
     "metadata": {},
     "output_type": "execute_result"
    }
   ],
   "source": [
    "# Checking length is correct\n",
    "len(big)+len(small)"
   ]
  },
  {
   "cell_type": "code",
   "execution_count": 38,
   "id": "46e8c6cf",
   "metadata": {},
   "outputs": [],
   "source": [
    "# Create new data frame from columns needed for line chart\n",
    "df_small = small[['orders_day_of_week','prices']]"
   ]
  },
  {
   "cell_type": "code",
   "execution_count": 39,
   "id": "1f90b498",
   "metadata": {},
   "outputs": [
    {
     "data": {
      "text/html": [
       "<div>\n",
       "<style scoped>\n",
       "    .dataframe tbody tr th:only-of-type {\n",
       "        vertical-align: middle;\n",
       "    }\n",
       "\n",
       "    .dataframe tbody tr th {\n",
       "        vertical-align: top;\n",
       "    }\n",
       "\n",
       "    .dataframe thead th {\n",
       "        text-align: right;\n",
       "    }\n",
       "</style>\n",
       "<table border=\"1\" class=\"dataframe\">\n",
       "  <thead>\n",
       "    <tr style=\"text-align: right;\">\n",
       "      <th></th>\n",
       "      <th>orders_day_of_week</th>\n",
       "      <th>prices</th>\n",
       "    </tr>\n",
       "  </thead>\n",
       "  <tbody>\n",
       "    <tr>\n",
       "      <th>0</th>\n",
       "      <td>2</td>\n",
       "      <td>9.0</td>\n",
       "    </tr>\n",
       "    <tr>\n",
       "      <th>2</th>\n",
       "      <td>3</td>\n",
       "      <td>9.0</td>\n",
       "    </tr>\n",
       "    <tr>\n",
       "      <th>3</th>\n",
       "      <td>4</td>\n",
       "      <td>9.0</td>\n",
       "    </tr>\n",
       "    <tr>\n",
       "      <th>6</th>\n",
       "      <td>1</td>\n",
       "      <td>9.0</td>\n",
       "    </tr>\n",
       "    <tr>\n",
       "      <th>10</th>\n",
       "      <td>2</td>\n",
       "      <td>12.5</td>\n",
       "    </tr>\n",
       "    <tr>\n",
       "      <th>...</th>\n",
       "      <td>...</td>\n",
       "      <td>...</td>\n",
       "    </tr>\n",
       "    <tr>\n",
       "      <th>32404841</th>\n",
       "      <td>2</td>\n",
       "      <td>10.7</td>\n",
       "    </tr>\n",
       "    <tr>\n",
       "      <th>32404842</th>\n",
       "      <td>6</td>\n",
       "      <td>10.7</td>\n",
       "    </tr>\n",
       "    <tr>\n",
       "      <th>32404843</th>\n",
       "      <td>0</td>\n",
       "      <td>10.7</td>\n",
       "    </tr>\n",
       "    <tr>\n",
       "      <th>32404849</th>\n",
       "      <td>1</td>\n",
       "      <td>10.7</td>\n",
       "    </tr>\n",
       "    <tr>\n",
       "      <th>32404850</th>\n",
       "      <td>4</td>\n",
       "      <td>10.7</td>\n",
       "    </tr>\n",
       "  </tbody>\n",
       "</table>\n",
       "<p>9721098 rows × 2 columns</p>\n",
       "</div>"
      ],
      "text/plain": [
       "          orders_day_of_week  prices\n",
       "0                          2     9.0\n",
       "2                          3     9.0\n",
       "3                          4     9.0\n",
       "6                          1     9.0\n",
       "10                         2    12.5\n",
       "...                      ...     ...\n",
       "32404841                   2    10.7\n",
       "32404842                   6    10.7\n",
       "32404843                   0    10.7\n",
       "32404849                   1    10.7\n",
       "32404850                   4    10.7\n",
       "\n",
       "[9721098 rows x 2 columns]"
      ]
     },
     "execution_count": 39,
     "metadata": {},
     "output_type": "execute_result"
    }
   ],
   "source": [
    "#Check output\n",
    "df_small"
   ]
  },
  {
   "cell_type": "code",
   "execution_count": 41,
   "id": "fc14e02c",
   "metadata": {},
   "outputs": [
    {
     "data": {
      "image/png": "[encoded data removed]",
      "text/plain": [
       "<Figure size 432x288 with 1 Axes>"
      ]
     },
     "metadata": {
      "needs_background": "light"
     },
     "output_type": "display_data"
    }
   ],
   "source": [
    "# Create line chart using the smaller 30% sample.\n",
    "line = sns.lineplot(data = df_small, x = 'orders_day_of_week',y = 'prices')"
   ]
  },
  {
   "cell_type": "code",
   "execution_count": 43,
   "id": "ea5a3a29",
   "metadata": {},
   "outputs": [
    {
     "data": {
      "image/png": "[encoded data removed]",
      "text/plain": [
       "<Figure size 432x288 with 1 Axes>"
      ]
     },
     "metadata": {
      "needs_background": "light"
     },
     "output_type": "display_data"
    }
   ],
   "source": [
    "# Create a histogram of the “order_hour_of_day” column\n",
    "\n",
    "hist2 = df['order_hour_of_day'].plot.hist(bins = 50, color = 'blue')"
   ]
  },
  {
   "cell_type": "markdown",
   "id": "f4aa1a1f",
   "metadata": {},
   "source": [
    "#### Orders begin to increase around 7 am, peaking around 10 am. Most orders are placed 9:30am-2:30pm.  Orders begin to taper off after 3pm, declining steeply after 8pm and remaining low from 8am until 5am."
   ]
  },
  {
   "cell_type": "code",
   "execution_count": 44,
   "id": "ec0b711c",
   "metadata": {},
   "outputs": [
    {
     "data": {
      "image/png": "[encoded data removed]",
      "text/plain": [
       "<Figure size 432x288 with 1 Axes>"
      ]
     },
     "metadata": {
      "needs_background": "light"
     },
     "output_type": "display_data"
    }
   ],
   "source": [
    "# Create a bar chart from the “loyalty_flag” column.\n",
    "bar = df['loyalty_flag'].value_counts().plot.bar()"
   ]
  },
  {
   "cell_type": "markdown",
   "id": "bf89f532",
   "metadata": {},
   "source": [
    "#### The largest customer base is \"regular customers\", those who place between 10 and 40 orders."
   ]
  },
  {
   "cell_type": "code",
   "execution_count": 46,
   "id": "3bd80998",
   "metadata": {},
   "outputs": [],
   "source": [
    "# Creating new data frame with just the columns needed for the line chart\n",
    "df_small_2 = small[['order_hour_of_day','prices']]"
   ]
  },
  {
   "cell_type": "code",
   "execution_count": 47,
   "id": "1cd3ff71",
   "metadata": {},
   "outputs": [
    {
     "data": {
      "text/html": [
       "<div>\n",
       "<style scoped>\n",
       "    .dataframe tbody tr th:only-of-type {\n",
       "        vertical-align: middle;\n",
       "    }\n",
       "\n",
       "    .dataframe tbody tr th {\n",
       "        vertical-align: top;\n",
       "    }\n",
       "\n",
       "    .dataframe thead th {\n",
       "        text-align: right;\n",
       "    }\n",
       "</style>\n",
       "<table border=\"1\" class=\"dataframe\">\n",
       "  <thead>\n",
       "    <tr style=\"text-align: right;\">\n",
       "      <th></th>\n",
       "      <th>order_hour_of_day</th>\n",
       "      <th>prices</th>\n",
       "    </tr>\n",
       "  </thead>\n",
       "  <tbody>\n",
       "    <tr>\n",
       "      <th>0</th>\n",
       "      <td>8</td>\n",
       "      <td>9.0</td>\n",
       "    </tr>\n",
       "    <tr>\n",
       "      <th>2</th>\n",
       "      <td>12</td>\n",
       "      <td>9.0</td>\n",
       "    </tr>\n",
       "    <tr>\n",
       "      <th>3</th>\n",
       "      <td>7</td>\n",
       "      <td>9.0</td>\n",
       "    </tr>\n",
       "    <tr>\n",
       "      <th>6</th>\n",
       "      <td>9</td>\n",
       "      <td>9.0</td>\n",
       "    </tr>\n",
       "    <tr>\n",
       "      <th>10</th>\n",
       "      <td>8</td>\n",
       "      <td>12.5</td>\n",
       "    </tr>\n",
       "    <tr>\n",
       "      <th>...</th>\n",
       "      <td>...</td>\n",
       "      <td>...</td>\n",
       "    </tr>\n",
       "    <tr>\n",
       "      <th>32404841</th>\n",
       "      <td>12</td>\n",
       "      <td>10.7</td>\n",
       "    </tr>\n",
       "    <tr>\n",
       "      <th>32404842</th>\n",
       "      <td>3</td>\n",
       "      <td>10.7</td>\n",
       "    </tr>\n",
       "    <tr>\n",
       "      <th>32404843</th>\n",
       "      <td>1</td>\n",
       "      <td>10.7</td>\n",
       "    </tr>\n",
       "    <tr>\n",
       "      <th>32404849</th>\n",
       "      <td>18</td>\n",
       "      <td>10.7</td>\n",
       "    </tr>\n",
       "    <tr>\n",
       "      <th>32404850</th>\n",
       "      <td>20</td>\n",
       "      <td>10.7</td>\n",
       "    </tr>\n",
       "  </tbody>\n",
       "</table>\n",
       "<p>9721098 rows × 2 columns</p>\n",
       "</div>"
      ],
      "text/plain": [
       "          order_hour_of_day  prices\n",
       "0                         8     9.0\n",
       "2                        12     9.0\n",
       "3                         7     9.0\n",
       "6                         9     9.0\n",
       "10                        8    12.5\n",
       "...                     ...     ...\n",
       "32404841                 12    10.7\n",
       "32404842                  3    10.7\n",
       "32404843                  1    10.7\n",
       "32404849                 18    10.7\n",
       "32404850                 20    10.7\n",
       "\n",
       "[9721098 rows x 2 columns]"
      ]
     },
     "execution_count": 47,
     "metadata": {},
     "output_type": "execute_result"
    }
   ],
   "source": [
    "df_small_2"
   ]
  },
  {
   "cell_type": "code",
   "execution_count": 48,
   "id": "4bc084a1",
   "metadata": {},
   "outputs": [
    {
     "data": {
      "image/png": "[encoded data removed]",
      "text/plain": [
       "<Figure size 432x288 with 1 Axes>"
      ]
     },
     "metadata": {
      "needs_background": "light"
     },
     "output_type": "display_data"
    }
   ],
   "source": [
    "# Create line chart on 30% of df sample\n",
    "line_2 = sns.lineplot(data = df_small_2, x = 'order_hour_of_day',y = 'prices')"
   ]
  },
  {
   "cell_type": "code",
   "execution_count": 49,
   "id": "e1ba53fd",
   "metadata": {},
   "outputs": [
    {
     "data": {
      "image/png": "[encoded data removed]",
      "text/plain": [
       "<Figure size 432x288 with 1 Axes>"
      ]
     },
     "metadata": {
      "needs_background": "light"
     },
     "output_type": "display_data"
    }
   ],
   "source": [
    "# Create a bar chart from the “loyalty_flag” column.\n",
    "bar = df['loyalty_flag'].value_counts().plot.bar()"
   ]
  },
  {
   "cell_type": "markdown",
   "id": "6d8d169b",
   "metadata": {},
   "source": [
    "While there are fewer orders placed in the early morning, these orders are of higher value. The large amount of orders that are being placed in the middle of the day are of lesser value. \n",
    "Higher frequency order times 10am- 2:30pm have lower expenditure than\n",
    "lower frequency order times especially in the morning 12:00am - 7:00am which have higher exependiture."
   ]
  },
  {
   "cell_type": "markdown",
   "id": "ff32f2b5",
   "metadata": {},
   "source": [
    "#### Determine whether there’s a connection between age and family situation by creating a line chart exploring the connections between age and number of dependents."
   ]
  },
  {
   "cell_type": "code",
   "execution_count": 51,
   "id": "534c1317",
   "metadata": {},
   "outputs": [],
   "source": [
    "# Creating new data frame with just the columns needed for the line chart\n",
    "df_small_3 = small[['age','no_of_dependants']]"
   ]
  },
  {
   "cell_type": "code",
   "execution_count": 53,
   "id": "5acf9785",
   "metadata": {},
   "outputs": [
    {
     "data": {
      "text/html": [
       "<div>\n",
       "<style scoped>\n",
       "    .dataframe tbody tr th:only-of-type {\n",
       "        vertical-align: middle;\n",
       "    }\n",
       "\n",
       "    .dataframe tbody tr th {\n",
       "        vertical-align: top;\n",
       "    }\n",
       "\n",
       "    .dataframe thead th {\n",
       "        text-align: right;\n",
       "    }\n",
       "</style>\n",
       "<table border=\"1\" class=\"dataframe\">\n",
       "  <thead>\n",
       "    <tr style=\"text-align: right;\">\n",
       "      <th></th>\n",
       "      <th>age</th>\n",
       "      <th>no_of_dependants</th>\n",
       "    </tr>\n",
       "  </thead>\n",
       "  <tbody>\n",
       "    <tr>\n",
       "      <th>0</th>\n",
       "      <td>31</td>\n",
       "      <td>3</td>\n",
       "    </tr>\n",
       "    <tr>\n",
       "      <th>2</th>\n",
       "      <td>31</td>\n",
       "      <td>3</td>\n",
       "    </tr>\n",
       "    <tr>\n",
       "      <th>3</th>\n",
       "      <td>31</td>\n",
       "      <td>3</td>\n",
       "    </tr>\n",
       "    <tr>\n",
       "      <th>6</th>\n",
       "      <td>31</td>\n",
       "      <td>3</td>\n",
       "    </tr>\n",
       "    <tr>\n",
       "      <th>10</th>\n",
       "      <td>31</td>\n",
       "      <td>3</td>\n",
       "    </tr>\n",
       "    <tr>\n",
       "      <th>...</th>\n",
       "      <td>...</td>\n",
       "      <td>...</td>\n",
       "    </tr>\n",
       "    <tr>\n",
       "      <th>32404841</th>\n",
       "      <td>25</td>\n",
       "      <td>0</td>\n",
       "    </tr>\n",
       "    <tr>\n",
       "      <th>32404842</th>\n",
       "      <td>25</td>\n",
       "      <td>0</td>\n",
       "    </tr>\n",
       "    <tr>\n",
       "      <th>32404843</th>\n",
       "      <td>25</td>\n",
       "      <td>0</td>\n",
       "    </tr>\n",
       "    <tr>\n",
       "      <th>32404849</th>\n",
       "      <td>25</td>\n",
       "      <td>0</td>\n",
       "    </tr>\n",
       "    <tr>\n",
       "      <th>32404850</th>\n",
       "      <td>25</td>\n",
       "      <td>0</td>\n",
       "    </tr>\n",
       "  </tbody>\n",
       "</table>\n",
       "<p>9721098 rows × 2 columns</p>\n",
       "</div>"
      ],
      "text/plain": [
       "          age  no_of_dependants\n",
       "0          31                 3\n",
       "2          31                 3\n",
       "3          31                 3\n",
       "6          31                 3\n",
       "10         31                 3\n",
       "...       ...               ...\n",
       "32404841   25                 0\n",
       "32404842   25                 0\n",
       "32404843   25                 0\n",
       "32404849   25                 0\n",
       "32404850   25                 0\n",
       "\n",
       "[9721098 rows x 2 columns]"
      ]
     },
     "execution_count": 53,
     "metadata": {},
     "output_type": "execute_result"
    }
   ],
   "source": [
    "df_small_3"
   ]
  },
  {
   "cell_type": "code",
   "execution_count": 54,
   "id": "c8e1da55",
   "metadata": {},
   "outputs": [
    {
     "data": {
      "image/png": "[encoded data removed]",
      "text/plain": [
       "<Figure size 432x288 with 1 Axes>"
      ]
     },
     "metadata": {
      "needs_background": "light"
     },
     "output_type": "display_data"
    }
   ],
   "source": [
    "line_3 = sns.lineplot(data = df_small_3, x = 'age',y = 'no_of_dependants')"
   ]
  },
  {
   "cell_type": "code",
   "execution_count": 55,
   "id": "afaedf2c",
   "metadata": {},
   "outputs": [
    {
     "data": {
      "text/plain": [
       "count    9.721098e+06\n",
       "mean     1.502105e+00\n",
       "std      1.118703e+00\n",
       "min      0.000000e+00\n",
       "25%      1.000000e+00\n",
       "50%      2.000000e+00\n",
       "75%      3.000000e+00\n",
       "max      3.000000e+00\n",
       "Name: no_of_dependants, dtype: float64"
      ]
     },
     "execution_count": 55,
     "metadata": {},
     "output_type": "execute_result"
    }
   ],
   "source": [
    "df_small_3['no_of_dependants'].describe()"
   ]
  },
  {
   "cell_type": "markdown",
   "id": "f4928fe7",
   "metadata": {},
   "source": [
    "#### There doesn't appear to be any connection/correlationn between age and number of dependants for Instacart customers."
   ]
  },
  {
   "cell_type": "code",
   "execution_count": 56,
   "id": "af67c66c",
   "metadata": {},
   "outputs": [
    {
     "data": {
      "image/png": "[encoded data removed]",
      "text/plain": [
       "<Figure size 432x288 with 1 Axes>"
      ]
     },
     "metadata": {
      "needs_background": "light"
     },
     "output_type": "display_data"
    }
   ],
   "source": [
    "# Explore whether there’s a connection between age and spending power (income).\n",
    "\n",
    "scatter_2 = sns.scatterplot(x = 'age', y = 'income', data = df)"
   ]
  },
  {
   "cell_type": "markdown",
   "id": "a91bc13b",
   "metadata": {},
   "source": [
    "#### This shows several relationships between age and spending power.\n",
    "1. The majority of customers aged 20-40 have an income of up to 200,000 USD\n",
    "2. Income increases to 300,000 USD in the 40+ age group, but the majority of this age group still remain in the 200,000 UDS and under bracket.\n",
    "3. The 40+ age group have the highest spending power.\n",
    "4. However there are some customers in the under 40 age group that have a higher spending power than the majority of 40+ group."
   ]
  },
  {
   "cell_type": "markdown",
   "id": "6abbfa6e",
   "metadata": {},
   "source": [
    "# 3. Export data"
   ]
  },
  {
   "cell_type": "code",
   "execution_count": 59,
   "id": "78a6e1df",
   "metadata": {},
   "outputs": [],
   "source": [
    "# Exporting charts to folder as image\n",
    "bar.figure.savefig(os.path.join(path, '04 Analysis','Visualizations', 'bar_orders_dow.png'))"
   ]
  },
  {
   "cell_type": "code",
   "execution_count": 60,
   "id": "ff27f9a3",
   "metadata": {},
   "outputs": [],
   "source": [
    "hist.figure.savefig(os.path.join(path, '04 Analysis','Visualizations', 'hist_exp.png'))"
   ]
  },
  {
   "cell_type": "code",
   "execution_count": 61,
   "id": "b7738cc0",
   "metadata": {},
   "outputs": [],
   "source": [
    "hist2.figure.savefig(os.path.join(path, '04 Analysis','Visualizations', 'exp_hour_of_day.png'))"
   ]
  },
  {
   "cell_type": "code",
   "execution_count": 62,
   "id": "81558870",
   "metadata": {},
   "outputs": [],
   "source": [
    "scatter1.figure.savefig(os.path.join(path, '04 Analysis','Visualizations', 'scatter_prices.png'))"
   ]
  },
  {
   "cell_type": "code",
   "execution_count": 63,
   "id": "c89e388f",
   "metadata": {},
   "outputs": [],
   "source": [
    "line.figure.savefig(os.path.join(path, '04 Analysis','Visualizations', 'line_dow_prices.png'))"
   ]
  },
  {
   "cell_type": "code",
   "execution_count": 64,
   "id": "ff1c76d0",
   "metadata": {},
   "outputs": [],
   "source": [
    "bar.figure.savefig(os.path.join(path, '04 Analysis','Visualizations', 'bar_loyalty_flag.png'))"
   ]
  },
  {
   "cell_type": "code",
   "execution_count": 65,
   "id": "7a3fab17",
   "metadata": {},
   "outputs": [],
   "source": [
    "line_2.figure.savefig(os.path.join(path, '04 Analysis','Visualizations', 'line_hour_prices.png'))"
   ]
  },
  {
   "cell_type": "code",
   "execution_count": 66,
   "id": "2483faff",
   "metadata": {},
   "outputs": [],
   "source": [
    "line_3.figure.savefig(os.path.join(path, '04 Analysis','Visualizations', 'line_age_no_of_dependants.png'))"
   ]
  },
  {
   "cell_type": "code",
   "execution_count": 67,
   "id": "da2cdca0",
   "metadata": {},
   "outputs": [],
   "source": [
    "scatter_2.figure.savefig(os.path.join(path, '04 Analysis','Visualizations', 'age_income.png'))"
   ]
  },
  {
   "cell_type": "code",
   "execution_count": null,
   "id": "fd250aa1",
   "metadata": {},
   "outputs": [],
   "source": []
  }
 ],
 "metadata": {
  "kernelspec": {
   "display_name": "Python 3 (ipykernel)",
   "language": "python",
   "name": "python3"
  },
  "language_info": {
   "codemirror_mode": {
    "name": "ipython",
    "version": 3
   },
   "file_extension": ".py",
   "mimetype": "text/x-python",
   "name": "python",
   "nbconvert_exporter": "python",
   "pygments_lexer": "ipython3",
   "version": "3.9.12"
  }
 },
 "nbformat": 4,
 "nbformat_minor": 5
}
