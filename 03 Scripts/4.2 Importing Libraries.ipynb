{
 "cells": [
  {
   "cell_type": "markdown",
   "id": "83441acc",
   "metadata": {},
   "source": [
    "## Contents\n",
    "1. importing libraries\n",
    "2. Importing data"
   ]
  },
  {
   "cell_type": "markdown",
   "id": "5b3d6c76",
   "metadata": {},
   "source": [
    "### Import libraries"
   ]
  },
  {
   "cell_type": "code",
   "execution_count": 1,
   "id": "c83476e0",
   "metadata": {},
   "outputs": [],
   "source": [
    "# Importing Libraries\n",
    "import pandas as pd\n",
    "import numpy as np\n",
    "import os"
   ]
  },
  {
   "cell_type": "markdown",
   "id": "059eb293",
   "metadata": {},
   "source": [
    "## Working With Python Data Types"
   ]
  },
  {
   "cell_type": "code",
   "execution_count": 2,
   "id": "41e8b3d8",
   "metadata": {},
   "outputs": [],
   "source": [
    "# Number 7 add and subtract to 100\n",
    "tik = 50\n",
    "tok = 50\n",
    "face = 125\n",
    "book = 25\n",
    "insta = 350\n",
    "gram = 250\n"
   ]
  },
  {
   "cell_type": "code",
   "execution_count": 3,
   "id": "52169078",
   "metadata": {},
   "outputs": [
    {
     "name": "stdout",
     "output_type": "stream",
     "text": [
      "100\n",
      "100\n",
      "100\n"
     ]
    },
    {
     "data": {
      "text/plain": [
       "100"
      ]
     },
     "execution_count": 3,
     "metadata": {},
     "output_type": "execute_result"
    }
   ],
   "source": [
    "print (tik + tok)\n",
    "print (face - book)\n",
    "print(insta - gram)\n",
    "100\n",
    "100\n",
    "100"
   ]
  },
  {
   "cell_type": "code",
   "execution_count": 5,
   "id": "5df5858d",
   "metadata": {},
   "outputs": [],
   "source": [
    "# Number 8. Code 2 float point variables\n",
    "snap = 40.243\n",
    "chat = 2.222"
   ]
  },
  {
   "cell_type": "code",
   "execution_count": 6,
   "id": "69c98a31",
   "metadata": {},
   "outputs": [
    {
     "name": "stdout",
     "output_type": "stream",
     "text": [
      "18.111161116111614\n"
     ]
    },
    {
     "data": {
      "text/plain": [
       "18.111161116111614"
      ]
     },
     "execution_count": 6,
     "metadata": {},
     "output_type": "execute_result"
    }
   ],
   "source": [
    "print(snap/chat)\n",
    "18.111161116111614"
   ]
  },
  {
   "cell_type": "code",
   "execution_count": 7,
   "id": "8b625480",
   "metadata": {},
   "outputs": [],
   "source": [
    "\n",
    "#Number 9. Concat a word from strings\n",
    "a = 'Cold'\n",
    "b = 'play'"
   ]
  },
  {
   "cell_type": "code",
   "execution_count": 9,
   "id": "c93e9715",
   "metadata": {},
   "outputs": [
    {
     "name": "stdout",
     "output_type": "stream",
     "text": [
      "Coldplay\n"
     ]
    }
   ],
   "source": [
    "print(a + b)\n"
   ]
  },
  {
   "cell_type": "code",
   "execution_count": 10,
   "id": "2d9e76cb",
   "metadata": {},
   "outputs": [
    {
     "name": "stdout",
     "output_type": "stream",
     "text": [
      "I believe I can fly.\n"
     ]
    }
   ],
   "source": [
    "#10. Two short sentances made from variables\n",
    "r = 'I believe '\n",
    "g = 'I can fly.'\n",
    "print(r + g)\n"
   ]
  },
  {
   "cell_type": "code",
   "execution_count": 11,
   "id": "dbacfbb0",
   "metadata": {},
   "outputs": [
    {
     "name": "stdout",
     "output_type": "stream",
     "text": [
      "I believe I can touch the sky.\n"
     ]
    }
   ],
   "source": [
    "t = 'I believe '\n",
    "d = 'I can touch the sky.'\n",
    "print(t + d)\n"
   ]
  },
  {
   "cell_type": "code",
   "execution_count": 12,
   "id": "fdb364d0",
   "metadata": {},
   "outputs": [
    {
     "name": "stdout",
     "output_type": "stream",
     "text": [
      "CornCornCornCornCornCornCornCornCornCornCornCornCornCornCornCornCornCornCornCornCornCornCornCornCornCornCornCornCornCornCornCornCornCornCornCornCornCornCornCornCornCornCornCornCornCornCornCornCornCornCornCornCornCornCornCornCornCornCornCornCornCornCornCornCornCornCornCornCornCornCornCornCornCornCornCornCornCornCornCornCornCornCornCornCornCornCornCornCornCornCornCornCornCornCornCornCornCornCornCorn\n"
     ]
    }
   ],
   "source": [
    "#Bonus (Not sure if you're on tik tok but this is all the rage)\n",
    "s = 'Corn'\n",
    "print(s * 100)"
   ]
  },
  {
   "cell_type": "code",
   "execution_count": null,
   "id": "03cf00ce",
   "metadata": {},
   "outputs": [],
   "source": []
  }
 ],
 "metadata": {
  "kernelspec": {
   "display_name": "Python 3 (ipykernel)",
   "language": "python",
   "name": "python3"
  },
  "language_info": {
   "codemirror_mode": {
    "name": "ipython",
    "version": 3
   },
   "file_extension": ".py",
   "mimetype": "text/x-python",
   "name": "python",
   "nbconvert_exporter": "python",
   "pygments_lexer": "ipython3",
   "version": "3.9.12"
  }
 },
 "nbformat": 4,
 "nbformat_minor": 5
}
