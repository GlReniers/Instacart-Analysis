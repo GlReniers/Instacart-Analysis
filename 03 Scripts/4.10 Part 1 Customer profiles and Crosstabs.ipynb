{
 "cells": [
  {
   "cell_type": "markdown",
   "id": "85d6bb9b",
   "metadata": {},
   "source": [
    "## Contents\n",
    "\n",
    "### 1. Exporting visualizations\n",
    "### 2. Data checks and preperation\n",
    "  #### a. Check main dataframe\n",
    "  #### b. Merging the dataframes\n",
    "### 3. PII issues\n",
    "### 4. Comparing geographic regions\n",
    "### 5. Creating exclusion flags for low-activity customers\n",
    "### 6. Creating customer profiles\n",
    "  #### a. Age profiles\n",
    "  #### b. Income profiles\n",
    "  #### c. Number of dependants profile\n",
    "  #### d. Baby items profile\n",
    "  #### e. Pet profile\n",
    "  #### f. Vegetarian profile\n",
    "  #### g. Alcohol consumer profile aggregation\n",
    "### 7. Aggregating the max, mean, and min variables on a customer-   profile level for usage frequency and expenditure\n",
    "  #### a. Age profiles\n",
    "  #### b. Income profiles\n",
    "  #### c. Number of dependants profile\n",
    "  #### d. Baby items profile\n",
    "  #### e. Pet profile\n",
    "  #### f. Vegetarian profile\n",
    "  #### g. Alcohol consumer profile aggregation\n",
    "### 8. Creating visualizations to show the distribution of profiles\n",
    "  #### a. Age profiles\n",
    "  #### b. Income profiles\n",
    "  #### c. Number of dependants profile\n",
    "  #### d. Baby items profile\n",
    "  #### e. Pet profile\n",
    "  #### f. Vegetarian profile\n",
    "  #### g. Alcohol consumer profile aggregation\n",
    "  ### 9. Exporting visualizations"
   ]
  },
  {
   "cell_type": "markdown",
   "id": "63b34e7c",
   "metadata": {},
   "source": [
    "# 1. Importing libraries and data"
   ]
  },
  {
   "cell_type": "code",
   "execution_count": 1,
   "id": "9ff60ed4",
   "metadata": {},
   "outputs": [],
   "source": [
    "import pandas as pd\n",
    "import numpy as np\n",
    "import os\n",
    "import matplotlib.pyplot as plt\n",
    "import seaborn as sns\n",
    "import scipy"
   ]
  },
  {
   "cell_type": "code",
   "execution_count": 2,
   "id": "6f75571e",
   "metadata": {},
   "outputs": [
    {
     "data": {
      "text/plain": [
       "'/Users/gwynreniers/Documents/Instacart Analysis'"
      ]
     },
     "execution_count": 2,
     "metadata": {},
     "output_type": "execute_result"
    }
   ],
   "source": [
    "#Create project path\n",
    "path = r'/Users/gwynreniers/Documents/Instacart Analysis'\n",
    "path"
   ]
  },
  {
   "cell_type": "code",
   "execution_count": 3,
   "id": "9a67da85",
   "metadata": {},
   "outputs": [],
   "source": [
    "df=pd.read_pickle(os.path.join(path, '02 Data', 'Prepared Data', 'full_instacart_data.pkl'))\n",
    "df_departments=pd.read_csv(os.path.join(path,'02 Data','Prepared Data','department_wrangled.csv'), index_col=False)"
   ]
  },
  {
   "cell_type": "markdown",
   "id": "0db9301a",
   "metadata": {},
   "source": [
    "# 2. Data checks and preperation"
   ]
  },
  {
   "cell_type": "markdown",
   "id": "11f1b5f9",
   "metadata": {},
   "source": [
    "### a. Checking the main dataframe"
   ]
  },
  {
   "cell_type": "code",
   "execution_count": 4,
   "id": "3253fda4",
   "metadata": {},
   "outputs": [
    {
     "data": {
      "text/plain": [
       "(32404859, 34)"
      ]
     },
     "execution_count": 4,
     "metadata": {},
     "output_type": "execute_result"
    }
   ],
   "source": [
    "df.shape"
   ]
  },
  {
   "cell_type": "code",
   "execution_count": 5,
   "id": "c1771194",
   "metadata": {},
   "outputs": [
    {
     "data": {
      "text/html": [
       "<div>\n",
       "<style scoped>\n",
       "    .dataframe tbody tr th:only-of-type {\n",
       "        vertical-align: middle;\n",
       "    }\n",
       "\n",
       "    .dataframe tbody tr th {\n",
       "        vertical-align: top;\n",
       "    }\n",
       "\n",
       "    .dataframe thead th {\n",
       "        text-align: right;\n",
       "    }\n",
       "</style>\n",
       "<table border=\"1\" class=\"dataframe\">\n",
       "  <thead>\n",
       "    <tr style=\"text-align: right;\">\n",
       "      <th></th>\n",
       "      <th>order_id</th>\n",
       "      <th>user_id</th>\n",
       "      <th>eval_set</th>\n",
       "      <th>order_number</th>\n",
       "      <th>orders_day_of_week</th>\n",
       "      <th>order_hour_of_day</th>\n",
       "      <th>days_since_prior_order</th>\n",
       "      <th>product_id</th>\n",
       "      <th>add_to_cart_order</th>\n",
       "      <th>reordered</th>\n",
       "      <th>...</th>\n",
       "      <th>Frequency_flag</th>\n",
       "      <th>first_name</th>\n",
       "      <th>surname</th>\n",
       "      <th>gender</th>\n",
       "      <th>state</th>\n",
       "      <th>age</th>\n",
       "      <th>date_joined</th>\n",
       "      <th>no_of_dependants</th>\n",
       "      <th>marital_status</th>\n",
       "      <th>income</th>\n",
       "    </tr>\n",
       "  </thead>\n",
       "  <tbody>\n",
       "    <tr>\n",
       "      <th>0</th>\n",
       "      <td>2539329</td>\n",
       "      <td>1</td>\n",
       "      <td>prior</td>\n",
       "      <td>1</td>\n",
       "      <td>2</td>\n",
       "      <td>8</td>\n",
       "      <td>NaN</td>\n",
       "      <td>196</td>\n",
       "      <td>1</td>\n",
       "      <td>0</td>\n",
       "      <td>...</td>\n",
       "      <td>Frequent customer</td>\n",
       "      <td>Linda</td>\n",
       "      <td>Nguyen</td>\n",
       "      <td>Female</td>\n",
       "      <td>Alabama</td>\n",
       "      <td>31</td>\n",
       "      <td>2/17/2019</td>\n",
       "      <td>3</td>\n",
       "      <td>married</td>\n",
       "      <td>40423</td>\n",
       "    </tr>\n",
       "    <tr>\n",
       "      <th>1</th>\n",
       "      <td>2398795</td>\n",
       "      <td>1</td>\n",
       "      <td>prior</td>\n",
       "      <td>2</td>\n",
       "      <td>3</td>\n",
       "      <td>7</td>\n",
       "      <td>15.0</td>\n",
       "      <td>196</td>\n",
       "      <td>1</td>\n",
       "      <td>1</td>\n",
       "      <td>...</td>\n",
       "      <td>Frequent customer</td>\n",
       "      <td>Linda</td>\n",
       "      <td>Nguyen</td>\n",
       "      <td>Female</td>\n",
       "      <td>Alabama</td>\n",
       "      <td>31</td>\n",
       "      <td>2/17/2019</td>\n",
       "      <td>3</td>\n",
       "      <td>married</td>\n",
       "      <td>40423</td>\n",
       "    </tr>\n",
       "    <tr>\n",
       "      <th>2</th>\n",
       "      <td>473747</td>\n",
       "      <td>1</td>\n",
       "      <td>prior</td>\n",
       "      <td>3</td>\n",
       "      <td>3</td>\n",
       "      <td>12</td>\n",
       "      <td>21.0</td>\n",
       "      <td>196</td>\n",
       "      <td>1</td>\n",
       "      <td>1</td>\n",
       "      <td>...</td>\n",
       "      <td>Frequent customer</td>\n",
       "      <td>Linda</td>\n",
       "      <td>Nguyen</td>\n",
       "      <td>Female</td>\n",
       "      <td>Alabama</td>\n",
       "      <td>31</td>\n",
       "      <td>2/17/2019</td>\n",
       "      <td>3</td>\n",
       "      <td>married</td>\n",
       "      <td>40423</td>\n",
       "    </tr>\n",
       "    <tr>\n",
       "      <th>3</th>\n",
       "      <td>2254736</td>\n",
       "      <td>1</td>\n",
       "      <td>prior</td>\n",
       "      <td>4</td>\n",
       "      <td>4</td>\n",
       "      <td>7</td>\n",
       "      <td>29.0</td>\n",
       "      <td>196</td>\n",
       "      <td>1</td>\n",
       "      <td>1</td>\n",
       "      <td>...</td>\n",
       "      <td>Frequent customer</td>\n",
       "      <td>Linda</td>\n",
       "      <td>Nguyen</td>\n",
       "      <td>Female</td>\n",
       "      <td>Alabama</td>\n",
       "      <td>31</td>\n",
       "      <td>2/17/2019</td>\n",
       "      <td>3</td>\n",
       "      <td>married</td>\n",
       "      <td>40423</td>\n",
       "    </tr>\n",
       "    <tr>\n",
       "      <th>4</th>\n",
       "      <td>431534</td>\n",
       "      <td>1</td>\n",
       "      <td>prior</td>\n",
       "      <td>5</td>\n",
       "      <td>4</td>\n",
       "      <td>15</td>\n",
       "      <td>28.0</td>\n",
       "      <td>196</td>\n",
       "      <td>1</td>\n",
       "      <td>1</td>\n",
       "      <td>...</td>\n",
       "      <td>Frequent customer</td>\n",
       "      <td>Linda</td>\n",
       "      <td>Nguyen</td>\n",
       "      <td>Female</td>\n",
       "      <td>Alabama</td>\n",
       "      <td>31</td>\n",
       "      <td>2/17/2019</td>\n",
       "      <td>3</td>\n",
       "      <td>married</td>\n",
       "      <td>40423</td>\n",
       "    </tr>\n",
       "  </tbody>\n",
       "</table>\n",
       "<p>5 rows × 34 columns</p>\n",
       "</div>"
      ],
      "text/plain": [
       "   order_id user_id eval_set  order_number  orders_day_of_week  \\\n",
       "0   2539329       1    prior             1                   2   \n",
       "1   2398795       1    prior             2                   3   \n",
       "2    473747       1    prior             3                   3   \n",
       "3   2254736       1    prior             4                   4   \n",
       "4    431534       1    prior             5                   4   \n",
       "\n",
       "   order_hour_of_day  days_since_prior_order  product_id  add_to_cart_order  \\\n",
       "0                  8                     NaN         196                  1   \n",
       "1                  7                    15.0         196                  1   \n",
       "2                 12                    21.0         196                  1   \n",
       "3                  7                    29.0         196                  1   \n",
       "4                 15                    28.0         196                  1   \n",
       "\n",
       "   reordered  ...     Frequency_flag  first_name  surname  gender    state  \\\n",
       "0          0  ...  Frequent customer       Linda   Nguyen  Female  Alabama   \n",
       "1          1  ...  Frequent customer       Linda   Nguyen  Female  Alabama   \n",
       "2          1  ...  Frequent customer       Linda   Nguyen  Female  Alabama   \n",
       "3          1  ...  Frequent customer       Linda   Nguyen  Female  Alabama   \n",
       "4          1  ...  Frequent customer       Linda   Nguyen  Female  Alabama   \n",
       "\n",
       "  age date_joined no_of_dependants marital_status  income  \n",
       "0  31   2/17/2019                3        married   40423  \n",
       "1  31   2/17/2019                3        married   40423  \n",
       "2  31   2/17/2019                3        married   40423  \n",
       "3  31   2/17/2019                3        married   40423  \n",
       "4  31   2/17/2019                3        married   40423  \n",
       "\n",
       "[5 rows x 34 columns]"
      ]
     },
     "execution_count": 5,
     "metadata": {},
     "output_type": "execute_result"
    }
   ],
   "source": [
    "df.head()"
   ]
  },
  {
   "cell_type": "code",
   "execution_count": 6,
   "id": "f8928b62",
   "metadata": {},
   "outputs": [],
   "source": [
    "#dropping column eval_set\n",
    "df = df.drop(columns = ['eval_set'])"
   ]
  },
  {
   "cell_type": "code",
   "execution_count": 7,
   "id": "5a5ae42c",
   "metadata": {},
   "outputs": [],
   "source": [
    "#rename no_of_dependant column for easier reading\n",
    "df.rename(columns = {'no_of_dependants' : 'number_of_dependants'}, inplace = True)"
   ]
  },
  {
   "cell_type": "code",
   "execution_count": 158,
   "id": "80a27475",
   "metadata": {},
   "outputs": [],
   "source": [
    "#rename no_of_dependant column for easier reading\n",
    "df.rename(columns = {'median_days_since_previous_order' : 'median_order_days'}, inplace = True)"
   ]
  },
  {
   "cell_type": "code",
   "execution_count": 159,
   "id": "531ea6b3",
   "metadata": {},
   "outputs": [
    {
     "name": "stdout",
     "output_type": "stream",
     "text": [
      "<class 'pandas.core.frame.DataFrame'>\n",
      "Int64Index: 32401975 entries, 0 to 32404857\n",
      "Data columns (total 32 columns):\n",
      " #   Column                  Dtype  \n",
      "---  ------                  -----  \n",
      " 0   order_id                int32  \n",
      " 1   user_id                 object \n",
      " 2   order_number            int64  \n",
      " 3   orders_day_of_week      int64  \n",
      " 4   order_hour_of_day       int64  \n",
      " 5   days_since_prior_order  float64\n",
      " 6   product_id              int64  \n",
      " 7   add_to_cart_order       int64  \n",
      " 8   reordered               int64  \n",
      " 9   product_name            object \n",
      " 10  department_id           int8   \n",
      " 11  prices                  float16\n",
      " 12  price_range_loc         object \n",
      " 13  busiest_day             object \n",
      " 14  busiest_days            object \n",
      " 15  Busiest_period_of_day   object \n",
      " 16  max_order               int64  \n",
      " 17  loyalty_flag            object \n",
      " 18  average_price           float16\n",
      " 19  spending_flag           object \n",
      " 20  median_order_days       float64\n",
      " 21  Frequency_flag          object \n",
      " 22  first_name              object \n",
      " 23  surname                 object \n",
      " 24  gender                  object \n",
      " 25  state                   object \n",
      " 26  age                     int8   \n",
      " 27  date_joined             object \n",
      " 28  number_of_dependants    int8   \n",
      " 29  marital_status          object \n",
      " 30  income                  int32  \n",
      " 31  activity_flag           object \n",
      "dtypes: float16(2), float64(2), int32(2), int64(7), int8(3), object(16)\n",
      "memory usage: 6.7+ GB\n"
     ]
    }
   ],
   "source": [
    "df.info()"
   ]
  },
  {
   "cell_type": "markdown",
   "id": "dac5a8a6",
   "metadata": {},
   "source": [
    "## b. Checking the departments dataframe"
   ]
  },
  {
   "cell_type": "code",
   "execution_count": 9,
   "id": "87c9a5df",
   "metadata": {},
   "outputs": [
    {
     "data": {
      "text/plain": [
       "(21, 2)"
      ]
     },
     "execution_count": 9,
     "metadata": {},
     "output_type": "execute_result"
    }
   ],
   "source": [
    "df_departments.shape"
   ]
  },
  {
   "cell_type": "code",
   "execution_count": 10,
   "id": "8fc3d5ee",
   "metadata": {},
   "outputs": [
    {
     "data": {
      "text/html": [
       "<div>\n",
       "<style scoped>\n",
       "    .dataframe tbody tr th:only-of-type {\n",
       "        vertical-align: middle;\n",
       "    }\n",
       "\n",
       "    .dataframe tbody tr th {\n",
       "        vertical-align: top;\n",
       "    }\n",
       "\n",
       "    .dataframe thead th {\n",
       "        text-align: right;\n",
       "    }\n",
       "</style>\n",
       "<table border=\"1\" class=\"dataframe\">\n",
       "  <thead>\n",
       "    <tr style=\"text-align: right;\">\n",
       "      <th></th>\n",
       "      <th>Unnamed: 0</th>\n",
       "      <th>department</th>\n",
       "    </tr>\n",
       "  </thead>\n",
       "  <tbody>\n",
       "    <tr>\n",
       "      <th>0</th>\n",
       "      <td>1</td>\n",
       "      <td>frozen</td>\n",
       "    </tr>\n",
       "    <tr>\n",
       "      <th>1</th>\n",
       "      <td>2</td>\n",
       "      <td>other</td>\n",
       "    </tr>\n",
       "    <tr>\n",
       "      <th>2</th>\n",
       "      <td>3</td>\n",
       "      <td>bakery</td>\n",
       "    </tr>\n",
       "    <tr>\n",
       "      <th>3</th>\n",
       "      <td>4</td>\n",
       "      <td>produce</td>\n",
       "    </tr>\n",
       "    <tr>\n",
       "      <th>4</th>\n",
       "      <td>5</td>\n",
       "      <td>alcohol</td>\n",
       "    </tr>\n",
       "  </tbody>\n",
       "</table>\n",
       "</div>"
      ],
      "text/plain": [
       "   Unnamed: 0 department\n",
       "0           1     frozen\n",
       "1           2      other\n",
       "2           3     bakery\n",
       "3           4    produce\n",
       "4           5    alcohol"
      ]
     },
     "execution_count": 10,
     "metadata": {},
     "output_type": "execute_result"
    }
   ],
   "source": [
    "df_departments.head()"
   ]
  },
  {
   "cell_type": "code",
   "execution_count": 11,
   "id": "5fb360b7",
   "metadata": {},
   "outputs": [
    {
     "name": "stdout",
     "output_type": "stream",
     "text": [
      "<class 'pandas.core.frame.DataFrame'>\n",
      "RangeIndex: 21 entries, 0 to 20\n",
      "Data columns (total 2 columns):\n",
      " #   Column      Non-Null Count  Dtype \n",
      "---  ------      --------------  ----- \n",
      " 0   Unnamed: 0  21 non-null     int64 \n",
      " 1   department  21 non-null     object\n",
      "dtypes: int64(1), object(1)\n",
      "memory usage: 464.0+ bytes\n"
     ]
    }
   ],
   "source": [
    "df_departments.info()"
   ]
  },
  {
   "cell_type": "code",
   "execution_count": 251,
   "id": "49056ac1",
   "metadata": {},
   "outputs": [],
   "source": [
    "#Renaming the column\n",
    "df_departments.rename(columns={'Unnamed: 0':'department_id'}, inplace=True)"
   ]
  },
  {
   "cell_type": "code",
   "execution_count": 252,
   "id": "7a4113a2",
   "metadata": {},
   "outputs": [],
   "source": [
    "df.rename(columns={'mean_price':'average_price'}, inplace=True)"
   ]
  },
  {
   "cell_type": "code",
   "execution_count": 14,
   "id": "b189a2ed",
   "metadata": {},
   "outputs": [],
   "source": [
    "#Data type correction for memory saving\n",
    "df['order_id']=df['order_id'].astype('int32')\n",
    "df_departments['department_id']=df_departments['department_id'].astype('int8')\n",
    "df['department_id']=df['department_id'].astype('int8')\n",
    "df['aisle_id']=df['aisle_id'].astype('int16')\n",
    "df['average_price']=df['average_price'].astype('float16')\n",
    "df['prices']=df['prices'].astype('float16')"
   ]
  },
  {
   "cell_type": "code",
   "execution_count": 15,
   "id": "827287d7",
   "metadata": {},
   "outputs": [],
   "source": [
    "#Deleting columns for memory saving\n",
    "df=df.drop(columns=['_merge', 'aisle_id'])"
   ]
  },
  {
   "cell_type": "markdown",
   "id": "7a7375a9",
   "metadata": {},
   "source": [
    "### c. Merging the dataframes"
   ]
  },
  {
   "cell_type": "code",
   "execution_count": 253,
   "id": "3195b76c",
   "metadata": {},
   "outputs": [
    {
     "name": "stdout",
     "output_type": "stream",
     "text": [
      "CPU times: user 6.87 s, sys: 6.22 s, total: 13.1 s\n",
      "Wall time: 15.7 s\n"
     ]
    }
   ],
   "source": [
    "%%time\n",
    "df_merged=df.merge(df_departments, on='department_id')"
   ]
  },
  {
   "cell_type": "code",
   "execution_count": 254,
   "id": "2aee2008",
   "metadata": {},
   "outputs": [
    {
     "data": {
      "text/plain": [
       "(32401975, 33)"
      ]
     },
     "execution_count": 254,
     "metadata": {},
     "output_type": "execute_result"
    }
   ],
   "source": [
    "df_merged.shape"
   ]
  },
  {
   "cell_type": "markdown",
   "id": "5c1e4d58",
   "metadata": {},
   "source": [
    "# 3. PII issues"
   ]
  },
  {
   "cell_type": "code",
   "execution_count": 255,
   "id": "e9cc50f1",
   "metadata": {},
   "outputs": [
    {
     "data": {
      "text/plain": [
       "Index(['order_id', 'user_id', 'order_number', 'orders_day_of_week',\n",
       "       'order_hour_of_day', 'days_since_prior_order', 'product_id',\n",
       "       'add_to_cart_order', 'reordered', 'product_name', 'department_id',\n",
       "       'prices', 'price_range_loc', 'busiest_day', 'busiest_days',\n",
       "       'Busiest_period_of_day', 'max_order', 'loyalty_flag', 'average_price',\n",
       "       'spending_flag', 'median_order_days', 'Frequency_flag', 'first_name',\n",
       "       'surname', 'gender', 'state', 'age', 'date_joined',\n",
       "       'number_of_dependants', 'marital_status', 'income', 'activity_flag',\n",
       "       'department'],\n",
       "      dtype='object')"
      ]
     },
     "execution_count": 255,
     "metadata": {},
     "output_type": "execute_result"
    }
   ],
   "source": [
    "#Checking column names in order to detect any PII data\n",
    "df_merged.columns"
   ]
  },
  {
   "cell_type": "markdown",
   "id": "8512fb24",
   "metadata": {},
   "source": [
    "#### The columns 'first_name' and 'surname' should be removed as they contain PII.  Also removal of the column department_id would reduce memory issues as it is not necessary."
   ]
  },
  {
   "cell_type": "markdown",
   "id": "1fb6aca7",
   "metadata": {},
   "source": [
    "# 4. Comparing geographic regions"
   ]
  },
  {
   "cell_type": "code",
   "execution_count": 256,
   "id": "19cad154",
   "metadata": {},
   "outputs": [],
   "source": [
    "#Creating a list of regions from provided webpage\n",
    "northeast=['Maine','New Hampshire','Vermont','Massachusetts','Rhode Island','Connecticut','New York','Pennsylvania','New Jersey']\n",
    "midwest=['Wisconsin','Michigan','Illinois','Indiana','Ohio','North Dakota','South Dakota','Nebraska','Kansas','Minnesota','Iowa','Missouri']\n",
    "south=['Delaware','Maryland','District of Columbia','Virginia','West Virginia','North Carolina','South Carolina','Georgia','Florida','Kentucky', 'Tennessee','Mississippi','Alabama','Oklahoma','Texas','Arkansas','Louisiana']\n",
    "west=['Idaho','Montana','Wyoming','Nevada','Utah','Colorado','Arizona','New Mexico','Alaska','Washington','Oregon','California','Hawaii']"
   ]
  },
  {
   "cell_type": "code",
   "execution_count": 257,
   "id": "586297c7",
   "metadata": {},
   "outputs": [],
   "source": [
    "#Creating regional flags\n",
    "df_merged.loc[df_merged['state'].isin(northeast), 'region']='Northeast'\n",
    "df_merged.loc[df_merged['state'].isin(midwest), 'region']='Midwest'\n",
    "df_merged.loc[df_merged['state'].isin(south), 'region']='South'\n",
    "df_merged.loc[df_merged['state'].isin(west), 'region']='West'"
   ]
  },
  {
   "cell_type": "code",
   "execution_count": 258,
   "id": "7ab170a8",
   "metadata": {},
   "outputs": [
    {
     "data": {
      "text/plain": [
       "South        10790974\n",
       "West          8292208\n",
       "Midwest       7596724\n",
       "Northeast     5722069\n",
       "Name: region, dtype: int64"
      ]
     },
     "execution_count": 258,
     "metadata": {},
     "output_type": "execute_result"
    }
   ],
   "source": [
    "#check output\n",
    "df_merged['region'].value_counts(dropna=False)"
   ]
  },
  {
   "cell_type": "code",
   "execution_count": 259,
   "id": "42e068a4",
   "metadata": {},
   "outputs": [
    {
     "data": {
      "text/html": [
       "<div>\n",
       "<style scoped>\n",
       "    .dataframe tbody tr th:only-of-type {\n",
       "        vertical-align: middle;\n",
       "    }\n",
       "\n",
       "    .dataframe tbody tr th {\n",
       "        vertical-align: top;\n",
       "    }\n",
       "\n",
       "    .dataframe thead th {\n",
       "        text-align: right;\n",
       "    }\n",
       "</style>\n",
       "<table border=\"1\" class=\"dataframe\">\n",
       "  <thead>\n",
       "    <tr style=\"text-align: right;\">\n",
       "      <th>spending_flag</th>\n",
       "      <th>High spender</th>\n",
       "      <th>Low spender</th>\n",
       "    </tr>\n",
       "    <tr>\n",
       "      <th>region</th>\n",
       "      <th></th>\n",
       "      <th></th>\n",
       "    </tr>\n",
       "  </thead>\n",
       "  <tbody>\n",
       "    <tr>\n",
       "      <th>Midwest</th>\n",
       "      <td>155970</td>\n",
       "      <td>7440754</td>\n",
       "    </tr>\n",
       "    <tr>\n",
       "      <th>Northeast</th>\n",
       "      <td>108224</td>\n",
       "      <td>5613845</td>\n",
       "    </tr>\n",
       "    <tr>\n",
       "      <th>South</th>\n",
       "      <td>209683</td>\n",
       "      <td>10581291</td>\n",
       "    </tr>\n",
       "    <tr>\n",
       "      <th>West</th>\n",
       "      <td>160338</td>\n",
       "      <td>8131870</td>\n",
       "    </tr>\n",
       "  </tbody>\n",
       "</table>\n",
       "</div>"
      ],
      "text/plain": [
       "spending_flag  High spender  Low spender\n",
       "region                                  \n",
       "Midwest              155970      7440754\n",
       "Northeast            108224      5613845\n",
       "South                209683     10581291\n",
       "West                 160338      8131870"
      ]
     },
     "execution_count": 259,
     "metadata": {},
     "output_type": "execute_result"
    }
   ],
   "source": [
    "#Crosstab of region with spending flags\n",
    "crosstab=pd.crosstab(df_merged['region'], df_merged['spending_flag'],  dropna=False)\n",
    "crosstab"
   ]
  },
  {
   "cell_type": "code",
   "execution_count": 260,
   "id": "dc7f01cd",
   "metadata": {},
   "outputs": [
    {
     "data": {
      "text/plain": [
       "region\n",
       "Midwest      12\n",
       "Northeast     9\n",
       "South        17\n",
       "West         13\n",
       "Name: state, dtype: int64"
      ]
     },
     "execution_count": 260,
     "metadata": {},
     "output_type": "execute_result"
    }
   ],
   "source": [
    "#Number of states per region\n",
    "df_merged.groupby('region')['state'].nunique()"
   ]
  },
  {
   "cell_type": "code",
   "execution_count": 261,
   "id": "abe5a198",
   "metadata": {},
   "outputs": [
    {
     "data": {
      "text/html": [
       "<div>\n",
       "<style scoped>\n",
       "    .dataframe tbody tr th:only-of-type {\n",
       "        vertical-align: middle;\n",
       "    }\n",
       "\n",
       "    .dataframe tbody tr th {\n",
       "        vertical-align: top;\n",
       "    }\n",
       "\n",
       "    .dataframe thead th {\n",
       "        text-align: right;\n",
       "    }\n",
       "</style>\n",
       "<table border=\"1\" class=\"dataframe\">\n",
       "  <thead>\n",
       "    <tr style=\"text-align: right;\">\n",
       "      <th></th>\n",
       "      <th>total_price</th>\n",
       "      <th>customer_count</th>\n",
       "      <th>average_price</th>\n",
       "    </tr>\n",
       "    <tr>\n",
       "      <th>region</th>\n",
       "      <th></th>\n",
       "      <th></th>\n",
       "      <th></th>\n",
       "    </tr>\n",
       "  </thead>\n",
       "  <tbody>\n",
       "    <tr>\n",
       "      <th>Midwest</th>\n",
       "      <td>NaN</td>\n",
       "      <td>48519</td>\n",
       "      <td>12.718750</td>\n",
       "    </tr>\n",
       "    <tr>\n",
       "      <th>Northeast</th>\n",
       "      <td>NaN</td>\n",
       "      <td>36388</td>\n",
       "      <td>11.554688</td>\n",
       "    </tr>\n",
       "    <tr>\n",
       "      <th>South</th>\n",
       "      <td>NaN</td>\n",
       "      <td>68737</td>\n",
       "      <td>12.195312</td>\n",
       "    </tr>\n",
       "    <tr>\n",
       "      <th>West</th>\n",
       "      <td>NaN</td>\n",
       "      <td>52565</td>\n",
       "      <td>11.320312</td>\n",
       "    </tr>\n",
       "  </tbody>\n",
       "</table>\n",
       "</div>"
      ],
      "text/plain": [
       "           total_price  customer_count  average_price\n",
       "region                                               \n",
       "Midwest            NaN           48519      12.718750\n",
       "Northeast          NaN           36388      11.554688\n",
       "South              NaN           68737      12.195312\n",
       "West               NaN           52565      11.320312"
      ]
     },
     "execution_count": 261,
     "metadata": {},
     "output_type": "execute_result"
    }
   ],
   "source": [
    "#Unique customer numbers\n",
    "unique_customers=df_merged.groupby('region').agg({'prices':['sum'],'user_id': 'nunique', 'average_price':'mean'})\n",
    "unique_customers.columns=['total_price', 'customer_count', 'average_price']\n",
    "unique_customers"
   ]
  },
  {
   "cell_type": "code",
   "execution_count": 262,
   "id": "d22a175f",
   "metadata": {},
   "outputs": [
    {
     "data": {
      "text/html": [
       "<div>\n",
       "<style scoped>\n",
       "    .dataframe tbody tr th:only-of-type {\n",
       "        vertical-align: middle;\n",
       "    }\n",
       "\n",
       "    .dataframe tbody tr th {\n",
       "        vertical-align: top;\n",
       "    }\n",
       "\n",
       "    .dataframe thead th {\n",
       "        text-align: right;\n",
       "    }\n",
       "</style>\n",
       "<table border=\"1\" class=\"dataframe\">\n",
       "  <thead>\n",
       "    <tr style=\"text-align: right;\">\n",
       "      <th></th>\n",
       "      <th>total_price</th>\n",
       "      <th>customer_count</th>\n",
       "      <th>average_price</th>\n",
       "    </tr>\n",
       "    <tr>\n",
       "      <th>region</th>\n",
       "      <th></th>\n",
       "      <th></th>\n",
       "      <th></th>\n",
       "    </tr>\n",
       "  </thead>\n",
       "  <tbody>\n",
       "    <tr>\n",
       "      <th>South</th>\n",
       "      <td>NaN</td>\n",
       "      <td>68737</td>\n",
       "      <td>12.195312</td>\n",
       "    </tr>\n",
       "    <tr>\n",
       "      <th>West</th>\n",
       "      <td>NaN</td>\n",
       "      <td>52565</td>\n",
       "      <td>11.320312</td>\n",
       "    </tr>\n",
       "    <tr>\n",
       "      <th>Midwest</th>\n",
       "      <td>NaN</td>\n",
       "      <td>48519</td>\n",
       "      <td>12.718750</td>\n",
       "    </tr>\n",
       "    <tr>\n",
       "      <th>Northeast</th>\n",
       "      <td>NaN</td>\n",
       "      <td>36388</td>\n",
       "      <td>11.554688</td>\n",
       "    </tr>\n",
       "  </tbody>\n",
       "</table>\n",
       "</div>"
      ],
      "text/plain": [
       "           total_price  customer_count  average_price\n",
       "region                                               \n",
       "South              NaN           68737      12.195312\n",
       "West               NaN           52565      11.320312\n",
       "Midwest            NaN           48519      12.718750\n",
       "Northeast          NaN           36388      11.554688"
      ]
     },
     "execution_count": 262,
     "metadata": {},
     "output_type": "execute_result"
    }
   ],
   "source": [
    "unique_customers.sort_values(by='customer_count', ascending=False)"
   ]
  },
  {
   "cell_type": "markdown",
   "id": "3963e2ce",
   "metadata": {},
   "source": [
    "#### The south has a higher customer count with the second highest average price, and the West has the second highest customer count with the lowest average price. The midwest states spend the most per customer on average."
   ]
  },
  {
   "cell_type": "markdown",
   "id": "2769dd82",
   "metadata": {},
   "source": [
    "# 5.  Creating exclusion flag for low-activity customers."
   ]
  },
  {
   "cell_type": "code",
   "execution_count": 263,
   "id": "997b493d",
   "metadata": {},
   "outputs": [],
   "source": [
    "df_merged['total_orders']=df_merged.groupby(['user_id']).user_id.transform('count')"
   ]
  },
  {
   "cell_type": "code",
   "execution_count": 264,
   "id": "459fb780",
   "metadata": {},
   "outputs": [],
   "source": [
    "#low activity customers have less than 5 orders\n",
    "#creating exclusion flag by counting the amount of times user_id shows up in dataframe, less than 5 is low activity\n",
    "results_2=[]\n",
    "for total in df_merged['total_orders']:\n",
    "    if total < 5:\n",
    "        results_2.append('Low Activity')\n",
    "    else:\n",
    "        results_2.append('Regular Activity')"
   ]
  },
  {
   "cell_type": "code",
   "execution_count": 265,
   "id": "d48a2777",
   "metadata": {},
   "outputs": [],
   "source": [
    "#including column in dataframe\n",
    "df_merged['activity_flag']=results_2"
   ]
  },
  {
   "cell_type": "code",
   "execution_count": 266,
   "id": "d156983e",
   "metadata": {},
   "outputs": [
    {
     "data": {
      "text/plain": [
       "Regular Activity    32399093\n",
       "Low Activity            2882\n",
       "Name: activity_flag, dtype: int64"
      ]
     },
     "execution_count": 266,
     "metadata": {},
     "output_type": "execute_result"
    }
   ],
   "source": [
    "#there are 2884 low activity customers\n",
    "df_merged['activity_flag'].value_counts(dropna=False)"
   ]
  },
  {
   "cell_type": "code",
   "execution_count": 267,
   "id": "70037b6f",
   "metadata": {},
   "outputs": [],
   "source": [
    "#creating subset of low activity customers\n",
    "low_activity_customers= df_merged[df_merged['activity_flag']=='Low Activity']"
   ]
  },
  {
   "cell_type": "code",
   "execution_count": 268,
   "id": "a18ce5ba",
   "metadata": {},
   "outputs": [
    {
     "data": {
      "text/plain": [
       "(2882, 35)"
      ]
     },
     "execution_count": 268,
     "metadata": {},
     "output_type": "execute_result"
    }
   ],
   "source": [
    "low_activity_customers.shape"
   ]
  },
  {
   "cell_type": "code",
   "execution_count": 269,
   "id": "2d809ab3",
   "metadata": {},
   "outputs": [],
   "source": [
    "#exporting low activity subset\n",
    "low_activity_customers.to_csv(os.path.join(path, '02 Data','Prepared Data', 'low_activity_customers.csv'))"
   ]
  },
  {
   "cell_type": "code",
   "execution_count": 270,
   "id": "db7c3a84",
   "metadata": {},
   "outputs": [],
   "source": [
    "#excluding sample from dataset\n",
    "df_merged.drop(df_merged[df_merged['activity_flag']=='Low Activity'].index, inplace=True)"
   ]
  },
  {
   "cell_type": "code",
   "execution_count": 271,
   "id": "17a2f70c",
   "metadata": {},
   "outputs": [
    {
     "data": {
      "text/plain": [
       "Regular Activity    32399093\n",
       "Name: activity_flag, dtype: int64"
      ]
     },
     "execution_count": 271,
     "metadata": {},
     "output_type": "execute_result"
    }
   ],
   "source": [
    "df_merged['activity_flag'].value_counts()"
   ]
  },
  {
   "cell_type": "code",
   "execution_count": 272,
   "id": "21804b9a",
   "metadata": {},
   "outputs": [
    {
     "data": {
      "text/html": [
       "<div>\n",
       "<style scoped>\n",
       "    .dataframe tbody tr th:only-of-type {\n",
       "        vertical-align: middle;\n",
       "    }\n",
       "\n",
       "    .dataframe tbody tr th {\n",
       "        vertical-align: top;\n",
       "    }\n",
       "\n",
       "    .dataframe thead th {\n",
       "        text-align: right;\n",
       "    }\n",
       "</style>\n",
       "<table border=\"1\" class=\"dataframe\">\n",
       "  <thead>\n",
       "    <tr style=\"text-align: right;\">\n",
       "      <th></th>\n",
       "      <th>order_id</th>\n",
       "      <th>user_id</th>\n",
       "      <th>order_number</th>\n",
       "      <th>orders_day_of_week</th>\n",
       "      <th>order_hour_of_day</th>\n",
       "      <th>days_since_prior_order</th>\n",
       "      <th>product_id</th>\n",
       "      <th>add_to_cart_order</th>\n",
       "      <th>reordered</th>\n",
       "      <th>product_name</th>\n",
       "      <th>department_id</th>\n",
       "      <th>prices</th>\n",
       "      <th>price_range_loc</th>\n",
       "      <th>busiest_day</th>\n",
       "      <th>busiest_days</th>\n",
       "      <th>Busiest_period_of_day</th>\n",
       "      <th>max_order</th>\n",
       "      <th>loyalty_flag</th>\n",
       "      <th>average_price</th>\n",
       "      <th>spending_flag</th>\n",
       "      <th>median_order_days</th>\n",
       "      <th>Frequency_flag</th>\n",
       "      <th>first_name</th>\n",
       "      <th>surname</th>\n",
       "      <th>gender</th>\n",
       "      <th>state</th>\n",
       "      <th>age</th>\n",
       "      <th>date_joined</th>\n",
       "      <th>number_of_dependants</th>\n",
       "      <th>marital_status</th>\n",
       "      <th>income</th>\n",
       "      <th>activity_flag</th>\n",
       "    </tr>\n",
       "  </thead>\n",
       "  <tbody>\n",
       "    <tr>\n",
       "      <th>0</th>\n",
       "      <td>2539329</td>\n",
       "      <td>1</td>\n",
       "      <td>1</td>\n",
       "      <td>2</td>\n",
       "      <td>8</td>\n",
       "      <td>NaN</td>\n",
       "      <td>196</td>\n",
       "      <td>1</td>\n",
       "      <td>0</td>\n",
       "      <td>Soda</td>\n",
       "      <td>7</td>\n",
       "      <td>9.0</td>\n",
       "      <td>Mid-range product</td>\n",
       "      <td>Regularly Busy</td>\n",
       "      <td>Regularly busy</td>\n",
       "      <td>Average orders</td>\n",
       "      <td>10</td>\n",
       "      <td>New customer</td>\n",
       "      <td>6.367188</td>\n",
       "      <td>Low spender</td>\n",
       "      <td>4.7</td>\n",
       "      <td>Frequent customer</td>\n",
       "      <td>Linda</td>\n",
       "      <td>Nguyen</td>\n",
       "      <td>Female</td>\n",
       "      <td>Alabama</td>\n",
       "      <td>31</td>\n",
       "      <td>2/17/2019</td>\n",
       "      <td>3</td>\n",
       "      <td>married</td>\n",
       "      <td>40423</td>\n",
       "      <td>Regular Activity</td>\n",
       "    </tr>\n",
       "    <tr>\n",
       "      <th>1</th>\n",
       "      <td>2398795</td>\n",
       "      <td>1</td>\n",
       "      <td>2</td>\n",
       "      <td>3</td>\n",
       "      <td>7</td>\n",
       "      <td>15.0</td>\n",
       "      <td>196</td>\n",
       "      <td>1</td>\n",
       "      <td>1</td>\n",
       "      <td>Soda</td>\n",
       "      <td>7</td>\n",
       "      <td>9.0</td>\n",
       "      <td>Mid-range product</td>\n",
       "      <td>Regularly Busy</td>\n",
       "      <td>Least busy</td>\n",
       "      <td>Average orders</td>\n",
       "      <td>10</td>\n",
       "      <td>New customer</td>\n",
       "      <td>6.367188</td>\n",
       "      <td>Low spender</td>\n",
       "      <td>4.7</td>\n",
       "      <td>Frequent customer</td>\n",
       "      <td>Linda</td>\n",
       "      <td>Nguyen</td>\n",
       "      <td>Female</td>\n",
       "      <td>Alabama</td>\n",
       "      <td>31</td>\n",
       "      <td>2/17/2019</td>\n",
       "      <td>3</td>\n",
       "      <td>married</td>\n",
       "      <td>40423</td>\n",
       "      <td>Regular Activity</td>\n",
       "    </tr>\n",
       "    <tr>\n",
       "      <th>2</th>\n",
       "      <td>473747</td>\n",
       "      <td>1</td>\n",
       "      <td>3</td>\n",
       "      <td>3</td>\n",
       "      <td>12</td>\n",
       "      <td>21.0</td>\n",
       "      <td>196</td>\n",
       "      <td>1</td>\n",
       "      <td>1</td>\n",
       "      <td>Soda</td>\n",
       "      <td>7</td>\n",
       "      <td>9.0</td>\n",
       "      <td>Mid-range product</td>\n",
       "      <td>Regularly Busy</td>\n",
       "      <td>Least busy</td>\n",
       "      <td>Most orders</td>\n",
       "      <td>10</td>\n",
       "      <td>New customer</td>\n",
       "      <td>6.367188</td>\n",
       "      <td>Low spender</td>\n",
       "      <td>4.7</td>\n",
       "      <td>Frequent customer</td>\n",
       "      <td>Linda</td>\n",
       "      <td>Nguyen</td>\n",
       "      <td>Female</td>\n",
       "      <td>Alabama</td>\n",
       "      <td>31</td>\n",
       "      <td>2/17/2019</td>\n",
       "      <td>3</td>\n",
       "      <td>married</td>\n",
       "      <td>40423</td>\n",
       "      <td>Regular Activity</td>\n",
       "    </tr>\n",
       "    <tr>\n",
       "      <th>3</th>\n",
       "      <td>2254736</td>\n",
       "      <td>1</td>\n",
       "      <td>4</td>\n",
       "      <td>4</td>\n",
       "      <td>7</td>\n",
       "      <td>29.0</td>\n",
       "      <td>196</td>\n",
       "      <td>1</td>\n",
       "      <td>1</td>\n",
       "      <td>Soda</td>\n",
       "      <td>7</td>\n",
       "      <td>9.0</td>\n",
       "      <td>Mid-range product</td>\n",
       "      <td>Least busy</td>\n",
       "      <td>Least busy</td>\n",
       "      <td>Average orders</td>\n",
       "      <td>10</td>\n",
       "      <td>New customer</td>\n",
       "      <td>6.367188</td>\n",
       "      <td>Low spender</td>\n",
       "      <td>4.7</td>\n",
       "      <td>Frequent customer</td>\n",
       "      <td>Linda</td>\n",
       "      <td>Nguyen</td>\n",
       "      <td>Female</td>\n",
       "      <td>Alabama</td>\n",
       "      <td>31</td>\n",
       "      <td>2/17/2019</td>\n",
       "      <td>3</td>\n",
       "      <td>married</td>\n",
       "      <td>40423</td>\n",
       "      <td>Regular Activity</td>\n",
       "    </tr>\n",
       "    <tr>\n",
       "      <th>4</th>\n",
       "      <td>431534</td>\n",
       "      <td>1</td>\n",
       "      <td>5</td>\n",
       "      <td>4</td>\n",
       "      <td>15</td>\n",
       "      <td>28.0</td>\n",
       "      <td>196</td>\n",
       "      <td>1</td>\n",
       "      <td>1</td>\n",
       "      <td>Soda</td>\n",
       "      <td>7</td>\n",
       "      <td>9.0</td>\n",
       "      <td>Mid-range product</td>\n",
       "      <td>Least busy</td>\n",
       "      <td>Least busy</td>\n",
       "      <td>Most orders</td>\n",
       "      <td>10</td>\n",
       "      <td>New customer</td>\n",
       "      <td>6.367188</td>\n",
       "      <td>Low spender</td>\n",
       "      <td>4.7</td>\n",
       "      <td>Frequent customer</td>\n",
       "      <td>Linda</td>\n",
       "      <td>Nguyen</td>\n",
       "      <td>Female</td>\n",
       "      <td>Alabama</td>\n",
       "      <td>31</td>\n",
       "      <td>2/17/2019</td>\n",
       "      <td>3</td>\n",
       "      <td>married</td>\n",
       "      <td>40423</td>\n",
       "      <td>Regular Activity</td>\n",
       "    </tr>\n",
       "  </tbody>\n",
       "</table>\n",
       "</div>"
      ],
      "text/plain": [
       "   order_id user_id  order_number  orders_day_of_week  order_hour_of_day  \\\n",
       "0   2539329       1             1                   2                  8   \n",
       "1   2398795       1             2                   3                  7   \n",
       "2    473747       1             3                   3                 12   \n",
       "3   2254736       1             4                   4                  7   \n",
       "4    431534       1             5                   4                 15   \n",
       "\n",
       "   days_since_prior_order  product_id  add_to_cart_order  reordered  \\\n",
       "0                     NaN         196                  1          0   \n",
       "1                    15.0         196                  1          1   \n",
       "2                    21.0         196                  1          1   \n",
       "3                    29.0         196                  1          1   \n",
       "4                    28.0         196                  1          1   \n",
       "\n",
       "  product_name  department_id  prices    price_range_loc     busiest_day  \\\n",
       "0         Soda              7     9.0  Mid-range product  Regularly Busy   \n",
       "1         Soda              7     9.0  Mid-range product  Regularly Busy   \n",
       "2         Soda              7     9.0  Mid-range product  Regularly Busy   \n",
       "3         Soda              7     9.0  Mid-range product      Least busy   \n",
       "4         Soda              7     9.0  Mid-range product      Least busy   \n",
       "\n",
       "     busiest_days Busiest_period_of_day  max_order  loyalty_flag  \\\n",
       "0  Regularly busy        Average orders         10  New customer   \n",
       "1      Least busy        Average orders         10  New customer   \n",
       "2      Least busy           Most orders         10  New customer   \n",
       "3      Least busy        Average orders         10  New customer   \n",
       "4      Least busy           Most orders         10  New customer   \n",
       "\n",
       "   average_price spending_flag  median_order_days     Frequency_flag  \\\n",
       "0       6.367188   Low spender                4.7  Frequent customer   \n",
       "1       6.367188   Low spender                4.7  Frequent customer   \n",
       "2       6.367188   Low spender                4.7  Frequent customer   \n",
       "3       6.367188   Low spender                4.7  Frequent customer   \n",
       "4       6.367188   Low spender                4.7  Frequent customer   \n",
       "\n",
       "  first_name surname  gender    state  age date_joined  number_of_dependants  \\\n",
       "0      Linda  Nguyen  Female  Alabama   31   2/17/2019                     3   \n",
       "1      Linda  Nguyen  Female  Alabama   31   2/17/2019                     3   \n",
       "2      Linda  Nguyen  Female  Alabama   31   2/17/2019                     3   \n",
       "3      Linda  Nguyen  Female  Alabama   31   2/17/2019                     3   \n",
       "4      Linda  Nguyen  Female  Alabama   31   2/17/2019                     3   \n",
       "\n",
       "  marital_status  income     activity_flag  \n",
       "0        married   40423  Regular Activity  \n",
       "1        married   40423  Regular Activity  \n",
       "2        married   40423  Regular Activity  \n",
       "3        married   40423  Regular Activity  \n",
       "4        married   40423  Regular Activity  "
      ]
     },
     "execution_count": 272,
     "metadata": {},
     "output_type": "execute_result"
    }
   ],
   "source": [
    " #viewing dataset\n",
    "pd.set_option('display.max_columns', None)\n",
    "df.head()"
   ]
  },
  {
   "cell_type": "markdown",
   "id": "bad93a50",
   "metadata": {},
   "source": [
    "## Analysis continues on only active customers"
   ]
  },
  {
   "cell_type": "markdown",
   "id": "b3b2804a",
   "metadata": {},
   "source": [
    "# 6.  Creating customer profiles"
   ]
  },
  {
   "cell_type": "markdown",
   "id": "1abf4632",
   "metadata": {},
   "source": [
    "## a. Age profile"
   ]
  },
  {
   "cell_type": "code",
   "execution_count": 273,
   "id": "8c942abd",
   "metadata": {},
   "outputs": [
    {
     "data": {
      "text/plain": [
       "Senior         13089812\n",
       "Adult          10164405\n",
       "Young Adult     9144876\n",
       "Name: age_group, dtype: int64"
      ]
     },
     "execution_count": 273,
     "metadata": {},
     "output_type": "execute_result"
    }
   ],
   "source": [
    "#Creating age flags for young adult:18-35 years, middle-aged adult: 36-55 years, older adults:56+ years\n",
    "df_merged.loc[df_merged['age']<=35, 'age_group']='Young Adult'\n",
    "df_merged.loc[(df_merged['age']<=55)&(df_merged['age']>35), 'age_group']='Adult'\n",
    "df_merged.loc[df_merged['age']>55, 'age_group']='Senior'\n",
    "df_merged['age_group'].value_counts(dropna=False)"
   ]
  },
  {
   "cell_type": "markdown",
   "id": "35d270a2",
   "metadata": {},
   "source": [
    "## b. Income profile"
   ]
  },
  {
   "cell_type": "code",
   "execution_count": 274,
   "id": "421cef7d",
   "metadata": {},
   "outputs": [
    {
     "data": {
      "text/plain": [
       "Middle Income    25569920\n",
       "Low Income        3877946\n",
       "High Income       2951227\n",
       "Name: income_group, dtype: int64"
      ]
     },
     "execution_count": 274,
     "metadata": {},
     "output_type": "execute_result"
    }
   ],
   "source": [
    "#Creating flags for income: <55,000- low income, 52,000<n<156,000-middle income, <156,000- high income\n",
    "df_merged.loc[df_merged['income']<52000, 'income_group']='Low Income'\n",
    "df_merged.loc[(df_merged['income']>=52000)&(df_merged['income']<156000), 'income_group']='Middle Income'\n",
    "df_merged.loc[df_merged['income']>156000, 'income_group']='High Income'\n",
    "df_merged['income_group'].value_counts(dropna=False)  \n",
    "  "
   ]
  },
  {
   "cell_type": "markdown",
   "id": "bb389155",
   "metadata": {},
   "source": [
    "## c. Number of Dependants Profile"
   ]
  },
  {
   "cell_type": "code",
   "execution_count": 275,
   "id": "f69a0f19",
   "metadata": {},
   "outputs": [],
   "source": [
    "#customers with 0 dependants are no dependants customers\n",
    "df_merged.loc[df_merged['number_of_dependants']== 0, 'dependant_flag'] = 'No dependants'\n",
    "#customers with more than 0 dependants are parents\n",
    "df_merged.loc[df_merged['number_of_dependants'] > 0, 'dependant_flag'] = 'Parent'\n"
   ]
  },
  {
   "cell_type": "code",
   "execution_count": 276,
   "id": "a580ac06",
   "metadata": {},
   "outputs": [
    {
     "data": {
      "text/plain": [
       "Parent           24303100\n",
       "No dependants     8095993\n",
       "Name: dependant_flag, dtype: int64"
      ]
     },
     "execution_count": 276,
     "metadata": {},
     "output_type": "execute_result"
    }
   ],
   "source": [
    "df_merged['dependant_flag'].value_counts()"
   ]
  },
  {
   "cell_type": "code",
   "execution_count": null,
   "id": "f2dddc5c",
   "metadata": {},
   "outputs": [],
   "source": []
  },
  {
   "cell_type": "markdown",
   "id": "b6a54717",
   "metadata": {},
   "source": [
    "# d. Baby items profile"
   ]
  },
  {
   "cell_type": "code",
   "execution_count": 277,
   "id": "d550158d",
   "metadata": {},
   "outputs": [
    {
     "data": {
      "text/plain": [
       "produce            9477983\n",
       "dairy eggs         5397913\n",
       "snacks             2887046\n",
       "beverages          2687138\n",
       "frozen             2234310\n",
       "pantry             1875021\n",
       "bakery             1172233\n",
       "canned goods       1067940\n",
       "deli               1051107\n",
       "dry goods pasta     866527\n",
       "household           738410\n",
       "meat seafood        708803\n",
       "breakfast           702916\n",
       "personal care       447452\n",
       "babies              423768\n",
       "international       269220\n",
       "alcohol             153622\n",
       "pets                 97704\n",
       "missing              69133\n",
       "other                36281\n",
       "bulk                 34566\n",
       "Name: department, dtype: int64"
      ]
     },
     "execution_count": 277,
     "metadata": {},
     "output_type": "execute_result"
    }
   ],
   "source": [
    "df_merged['department'].value_counts()"
   ]
  },
  {
   "cell_type": "code",
   "execution_count": 278,
   "id": "6a6689e9",
   "metadata": {},
   "outputs": [
    {
     "data": {
      "text/plain": [
       "0    22426717\n",
       "1     9972376\n",
       "Name: baby_status, dtype: int64"
      ]
     },
     "execution_count": 278,
     "metadata": {},
     "output_type": "execute_result"
    }
   ],
   "source": [
    "#Creating flags for bought baby stuff(1)/didn't buy baby stuff (0). Binary values were used in order to save memory. \n",
    "df_merged['baby_status'] = [1 if x == 'babies' else 0 for x in df_merged['department']]\n",
    "df_merged['baby_status']=df_merged.groupby(['user_id'])['baby_status'].transform(np.max)\n",
    "df_merged['baby_status'].value_counts(dropna=False)"
   ]
  },
  {
   "cell_type": "code",
   "execution_count": 279,
   "id": "fb959cd9",
   "metadata": {},
   "outputs": [],
   "source": [
    "#Reducing memory issues\n",
    "df_merged['baby_status']=df_merged['baby_status'].astype('int8')"
   ]
  },
  {
   "cell_type": "markdown",
   "id": "3a5abb1a",
   "metadata": {},
   "source": [
    "## e. Pet profile\n"
   ]
  },
  {
   "cell_type": "code",
   "execution_count": 280,
   "id": "bff292f9",
   "metadata": {},
   "outputs": [
    {
     "data": {
      "text/plain": [
       "0    28871445\n",
       "1     3527648\n",
       "Name: pet_status, dtype: int64"
      ]
     },
     "execution_count": 280,
     "metadata": {},
     "output_type": "execute_result"
    }
   ],
   "source": [
    "#Creating flag for: has a pet(1)/doesn't have pets(0).\n",
    "df_merged['pet_status']=[1 if x=='pets' else 0 for x in df_merged['department']]\n",
    "df_merged['pet_status']=df_merged.groupby(['user_id'])['pet_status'].transform(np.max)\n",
    "df_merged['pet_status'].value_counts(dropna=False)"
   ]
  },
  {
   "cell_type": "markdown",
   "id": "d0d0bffb",
   "metadata": {},
   "source": [
    "## f. Vegetarian profile"
   ]
  },
  {
   "cell_type": "code",
   "execution_count": 281,
   "id": "c54f64b8",
   "metadata": {},
   "outputs": [
    {
     "data": {
      "text/plain": [
       "1    32017839\n",
       "0      381254\n",
       "Name: veggie_status, dtype: int64"
      ]
     },
     "execution_count": 281,
     "metadata": {},
     "output_type": "execute_result"
    }
   ],
   "source": [
    "#Creating flag for: vegetarian(0)/not vegetarian(1).\n",
    "df_merged['veggie_status']=[1 if (x=='meat seafood')or(x=='dairy eggs') else 0 for x in df_merged['department']]\n",
    "df_merged['veggie_status']=df_merged.groupby(['user_id'])['veggie_status'].transform(np.max)\n",
    "df_merged['veggie_status'].value_counts(dropna=False)"
   ]
  },
  {
   "cell_type": "markdown",
   "id": "5712d84c",
   "metadata": {},
   "source": [
    "#### Customers who don't purchase animal products may not be vegan/vegetarian, they may purchase elsewhere. Cannot be 100% certain but this will flag non- animal product or non-meat buying customers"
   ]
  },
  {
   "cell_type": "code",
   "execution_count": 282,
   "id": "80ed0934",
   "metadata": {},
   "outputs": [],
   "source": [
    "#Reducing memory \n",
    "df_merged['veggie_status']=df_merged['veggie_status'].astype('int8')"
   ]
  },
  {
   "cell_type": "markdown",
   "id": "e068b70b",
   "metadata": {},
   "source": [
    "## g. Alcohol consumer profile"
   ]
  },
  {
   "cell_type": "code",
   "execution_count": 283,
   "id": "4da5c09d",
   "metadata": {},
   "outputs": [
    {
     "data": {
      "text/plain": [
       "0    29985562\n",
       "1     2413531\n",
       "Name: alcohol_status, dtype: int64"
      ]
     },
     "execution_count": 283,
     "metadata": {},
     "output_type": "execute_result"
    }
   ],
   "source": [
    "#Creating a flag for: alcohol consumer(1)/not consumer(0).\n",
    "df_merged['alcohol_status']=[1 if x=='alcohol' else 0 for x in df_merged['department']]\n",
    "df_merged['alcohol_status']=df_merged.groupby(['user_id'])['alcohol_status'].transform(np.max)\n",
    "df_merged['alcohol_status'].value_counts(dropna=False)"
   ]
  },
  {
   "cell_type": "code",
   "execution_count": 284,
   "id": "ec30423a",
   "metadata": {},
   "outputs": [],
   "source": [
    "#Reducing memory \n",
    "df_merged['alcohol_status']=df_merged['alcohol_status'].astype('int8')"
   ]
  },
  {
   "cell_type": "code",
   "execution_count": 285,
   "id": "0b2d33b4",
   "metadata": {},
   "outputs": [],
   "source": [
    "#Exporting the dataframe\n",
    "df_merged.to_pickle(os.path.join(path, '02 Data', 'Prepared Data', 'active_customers.pkl'))"
   ]
  },
  {
   "cell_type": "code",
   "execution_count": 286,
   "id": "c66a923c",
   "metadata": {},
   "outputs": [],
   "source": [
    "#Renaming the column\n",
    "df_merged.rename(columns={'median_days_since_previous_order':'median_order_days'}, inplace=True)"
   ]
  },
  {
   "cell_type": "code",
   "execution_count": 302,
   "id": "9e045ef7",
   "metadata": {},
   "outputs": [],
   "source": [
    "#Replacing inf with nan\n",
    "df_merged.replace([np.inf -np.inf],np.nan, inplace= True)"
   ]
  },
  {
   "cell_type": "code",
   "execution_count": 304,
   "id": "09d38b31",
   "metadata": {},
   "outputs": [
    {
     "data": {
      "text/html": [
       "<div>\n",
       "<style scoped>\n",
       "    .dataframe tbody tr th:only-of-type {\n",
       "        vertical-align: middle;\n",
       "    }\n",
       "\n",
       "    .dataframe tbody tr th {\n",
       "        vertical-align: top;\n",
       "    }\n",
       "\n",
       "    .dataframe thead th {\n",
       "        text-align: right;\n",
       "    }\n",
       "</style>\n",
       "<table border=\"1\" class=\"dataframe\">\n",
       "  <thead>\n",
       "    <tr style=\"text-align: right;\">\n",
       "      <th></th>\n",
       "      <th>order_id</th>\n",
       "      <th>user_id</th>\n",
       "      <th>order_number</th>\n",
       "      <th>orders_day_of_week</th>\n",
       "      <th>order_hour_of_day</th>\n",
       "      <th>days_since_prior_order</th>\n",
       "      <th>product_id</th>\n",
       "      <th>add_to_cart_order</th>\n",
       "      <th>reordered</th>\n",
       "      <th>product_name</th>\n",
       "      <th>department_id</th>\n",
       "      <th>prices</th>\n",
       "      <th>price_range_loc</th>\n",
       "      <th>busiest_day</th>\n",
       "      <th>busiest_days</th>\n",
       "      <th>Busiest_period_of_day</th>\n",
       "      <th>max_order</th>\n",
       "      <th>loyalty_flag</th>\n",
       "      <th>average_price</th>\n",
       "      <th>spending_flag</th>\n",
       "      <th>median_order_days</th>\n",
       "      <th>Frequency_flag</th>\n",
       "      <th>first_name</th>\n",
       "      <th>surname</th>\n",
       "      <th>gender</th>\n",
       "      <th>state</th>\n",
       "      <th>age</th>\n",
       "      <th>date_joined</th>\n",
       "      <th>number_of_dependants</th>\n",
       "      <th>marital_status</th>\n",
       "      <th>income</th>\n",
       "      <th>activity_flag</th>\n",
       "      <th>department</th>\n",
       "      <th>region</th>\n",
       "      <th>total_orders</th>\n",
       "      <th>age_group</th>\n",
       "      <th>income_group</th>\n",
       "      <th>dependant_flag</th>\n",
       "      <th>baby_status</th>\n",
       "      <th>pet_status</th>\n",
       "      <th>veggie_status</th>\n",
       "      <th>alcohol_status</th>\n",
       "    </tr>\n",
       "  </thead>\n",
       "  <tbody>\n",
       "    <tr>\n",
       "      <th>0</th>\n",
       "      <td>2539329</td>\n",
       "      <td>1</td>\n",
       "      <td>1</td>\n",
       "      <td>2</td>\n",
       "      <td>8</td>\n",
       "      <td>NaN</td>\n",
       "      <td>196</td>\n",
       "      <td>1</td>\n",
       "      <td>0</td>\n",
       "      <td>Soda</td>\n",
       "      <td>7</td>\n",
       "      <td>9.000000</td>\n",
       "      <td>Mid-range product</td>\n",
       "      <td>Regularly Busy</td>\n",
       "      <td>Regularly busy</td>\n",
       "      <td>Average orders</td>\n",
       "      <td>10</td>\n",
       "      <td>New customer</td>\n",
       "      <td>6.367188</td>\n",
       "      <td>Low spender</td>\n",
       "      <td>4.7</td>\n",
       "      <td>Frequent customer</td>\n",
       "      <td>Linda</td>\n",
       "      <td>Nguyen</td>\n",
       "      <td>Female</td>\n",
       "      <td>Alabama</td>\n",
       "      <td>31</td>\n",
       "      <td>2/17/2019</td>\n",
       "      <td>3</td>\n",
       "      <td>married</td>\n",
       "      <td>40423</td>\n",
       "      <td>Regular Activity</td>\n",
       "      <td>beverages</td>\n",
       "      <td>South</td>\n",
       "      <td>59</td>\n",
       "      <td>Young Adult</td>\n",
       "      <td>Low Income</td>\n",
       "      <td>Parent</td>\n",
       "      <td>0</td>\n",
       "      <td>0</td>\n",
       "      <td>1</td>\n",
       "      <td>0</td>\n",
       "    </tr>\n",
       "    <tr>\n",
       "      <th>1</th>\n",
       "      <td>2398795</td>\n",
       "      <td>1</td>\n",
       "      <td>2</td>\n",
       "      <td>3</td>\n",
       "      <td>7</td>\n",
       "      <td>15.0</td>\n",
       "      <td>196</td>\n",
       "      <td>1</td>\n",
       "      <td>1</td>\n",
       "      <td>Soda</td>\n",
       "      <td>7</td>\n",
       "      <td>9.000000</td>\n",
       "      <td>Mid-range product</td>\n",
       "      <td>Regularly Busy</td>\n",
       "      <td>Least busy</td>\n",
       "      <td>Average orders</td>\n",
       "      <td>10</td>\n",
       "      <td>New customer</td>\n",
       "      <td>6.367188</td>\n",
       "      <td>Low spender</td>\n",
       "      <td>4.7</td>\n",
       "      <td>Frequent customer</td>\n",
       "      <td>Linda</td>\n",
       "      <td>Nguyen</td>\n",
       "      <td>Female</td>\n",
       "      <td>Alabama</td>\n",
       "      <td>31</td>\n",
       "      <td>2/17/2019</td>\n",
       "      <td>3</td>\n",
       "      <td>married</td>\n",
       "      <td>40423</td>\n",
       "      <td>Regular Activity</td>\n",
       "      <td>beverages</td>\n",
       "      <td>South</td>\n",
       "      <td>59</td>\n",
       "      <td>Young Adult</td>\n",
       "      <td>Low Income</td>\n",
       "      <td>Parent</td>\n",
       "      <td>0</td>\n",
       "      <td>0</td>\n",
       "      <td>1</td>\n",
       "      <td>0</td>\n",
       "    </tr>\n",
       "    <tr>\n",
       "      <th>2</th>\n",
       "      <td>473747</td>\n",
       "      <td>1</td>\n",
       "      <td>3</td>\n",
       "      <td>3</td>\n",
       "      <td>12</td>\n",
       "      <td>21.0</td>\n",
       "      <td>196</td>\n",
       "      <td>1</td>\n",
       "      <td>1</td>\n",
       "      <td>Soda</td>\n",
       "      <td>7</td>\n",
       "      <td>9.000000</td>\n",
       "      <td>Mid-range product</td>\n",
       "      <td>Regularly Busy</td>\n",
       "      <td>Least busy</td>\n",
       "      <td>Most orders</td>\n",
       "      <td>10</td>\n",
       "      <td>New customer</td>\n",
       "      <td>6.367188</td>\n",
       "      <td>Low spender</td>\n",
       "      <td>4.7</td>\n",
       "      <td>Frequent customer</td>\n",
       "      <td>Linda</td>\n",
       "      <td>Nguyen</td>\n",
       "      <td>Female</td>\n",
       "      <td>Alabama</td>\n",
       "      <td>31</td>\n",
       "      <td>2/17/2019</td>\n",
       "      <td>3</td>\n",
       "      <td>married</td>\n",
       "      <td>40423</td>\n",
       "      <td>Regular Activity</td>\n",
       "      <td>beverages</td>\n",
       "      <td>South</td>\n",
       "      <td>59</td>\n",
       "      <td>Young Adult</td>\n",
       "      <td>Low Income</td>\n",
       "      <td>Parent</td>\n",
       "      <td>0</td>\n",
       "      <td>0</td>\n",
       "      <td>1</td>\n",
       "      <td>0</td>\n",
       "    </tr>\n",
       "    <tr>\n",
       "      <th>3</th>\n",
       "      <td>2254736</td>\n",
       "      <td>1</td>\n",
       "      <td>4</td>\n",
       "      <td>4</td>\n",
       "      <td>7</td>\n",
       "      <td>29.0</td>\n",
       "      <td>196</td>\n",
       "      <td>1</td>\n",
       "      <td>1</td>\n",
       "      <td>Soda</td>\n",
       "      <td>7</td>\n",
       "      <td>9.000000</td>\n",
       "      <td>Mid-range product</td>\n",
       "      <td>Least busy</td>\n",
       "      <td>Least busy</td>\n",
       "      <td>Average orders</td>\n",
       "      <td>10</td>\n",
       "      <td>New customer</td>\n",
       "      <td>6.367188</td>\n",
       "      <td>Low spender</td>\n",
       "      <td>4.7</td>\n",
       "      <td>Frequent customer</td>\n",
       "      <td>Linda</td>\n",
       "      <td>Nguyen</td>\n",
       "      <td>Female</td>\n",
       "      <td>Alabama</td>\n",
       "      <td>31</td>\n",
       "      <td>2/17/2019</td>\n",
       "      <td>3</td>\n",
       "      <td>married</td>\n",
       "      <td>40423</td>\n",
       "      <td>Regular Activity</td>\n",
       "      <td>beverages</td>\n",
       "      <td>South</td>\n",
       "      <td>59</td>\n",
       "      <td>Young Adult</td>\n",
       "      <td>Low Income</td>\n",
       "      <td>Parent</td>\n",
       "      <td>0</td>\n",
       "      <td>0</td>\n",
       "      <td>1</td>\n",
       "      <td>0</td>\n",
       "    </tr>\n",
       "    <tr>\n",
       "      <th>4</th>\n",
       "      <td>431534</td>\n",
       "      <td>1</td>\n",
       "      <td>5</td>\n",
       "      <td>4</td>\n",
       "      <td>15</td>\n",
       "      <td>28.0</td>\n",
       "      <td>196</td>\n",
       "      <td>1</td>\n",
       "      <td>1</td>\n",
       "      <td>Soda</td>\n",
       "      <td>7</td>\n",
       "      <td>9.000000</td>\n",
       "      <td>Mid-range product</td>\n",
       "      <td>Least busy</td>\n",
       "      <td>Least busy</td>\n",
       "      <td>Most orders</td>\n",
       "      <td>10</td>\n",
       "      <td>New customer</td>\n",
       "      <td>6.367188</td>\n",
       "      <td>Low spender</td>\n",
       "      <td>4.7</td>\n",
       "      <td>Frequent customer</td>\n",
       "      <td>Linda</td>\n",
       "      <td>Nguyen</td>\n",
       "      <td>Female</td>\n",
       "      <td>Alabama</td>\n",
       "      <td>31</td>\n",
       "      <td>2/17/2019</td>\n",
       "      <td>3</td>\n",
       "      <td>married</td>\n",
       "      <td>40423</td>\n",
       "      <td>Regular Activity</td>\n",
       "      <td>beverages</td>\n",
       "      <td>South</td>\n",
       "      <td>59</td>\n",
       "      <td>Young Adult</td>\n",
       "      <td>Low Income</td>\n",
       "      <td>Parent</td>\n",
       "      <td>0</td>\n",
       "      <td>0</td>\n",
       "      <td>1</td>\n",
       "      <td>0</td>\n",
       "    </tr>\n",
       "    <tr>\n",
       "      <th>...</th>\n",
       "      <td>...</td>\n",
       "      <td>...</td>\n",
       "      <td>...</td>\n",
       "      <td>...</td>\n",
       "      <td>...</td>\n",
       "      <td>...</td>\n",
       "      <td>...</td>\n",
       "      <td>...</td>\n",
       "      <td>...</td>\n",
       "      <td>...</td>\n",
       "      <td>...</td>\n",
       "      <td>...</td>\n",
       "      <td>...</td>\n",
       "      <td>...</td>\n",
       "      <td>...</td>\n",
       "      <td>...</td>\n",
       "      <td>...</td>\n",
       "      <td>...</td>\n",
       "      <td>...</td>\n",
       "      <td>...</td>\n",
       "      <td>...</td>\n",
       "      <td>...</td>\n",
       "      <td>...</td>\n",
       "      <td>...</td>\n",
       "      <td>...</td>\n",
       "      <td>...</td>\n",
       "      <td>...</td>\n",
       "      <td>...</td>\n",
       "      <td>...</td>\n",
       "      <td>...</td>\n",
       "      <td>...</td>\n",
       "      <td>...</td>\n",
       "      <td>...</td>\n",
       "      <td>...</td>\n",
       "      <td>...</td>\n",
       "      <td>...</td>\n",
       "      <td>...</td>\n",
       "      <td>...</td>\n",
       "      <td>...</td>\n",
       "      <td>...</td>\n",
       "      <td>...</td>\n",
       "      <td>...</td>\n",
       "    </tr>\n",
       "    <tr>\n",
       "      <th>32401968</th>\n",
       "      <td>1605789</td>\n",
       "      <td>58201</td>\n",
       "      <td>28</td>\n",
       "      <td>5</td>\n",
       "      <td>7</td>\n",
       "      <td>27.0</td>\n",
       "      <td>5161</td>\n",
       "      <td>1</td>\n",
       "      <td>1</td>\n",
       "      <td>Dried Mango</td>\n",
       "      <td>10</td>\n",
       "      <td>6.101562</td>\n",
       "      <td>Mid-range product</td>\n",
       "      <td>Regularly Busy</td>\n",
       "      <td>Regularly busy</td>\n",
       "      <td>Average orders</td>\n",
       "      <td>28</td>\n",
       "      <td>Regular customer</td>\n",
       "      <td>7.691406</td>\n",
       "      <td>Low spender</td>\n",
       "      <td>5.8</td>\n",
       "      <td>Frequent customer</td>\n",
       "      <td>Todd</td>\n",
       "      <td>Khan</td>\n",
       "      <td>Male</td>\n",
       "      <td>Florida</td>\n",
       "      <td>75</td>\n",
       "      <td>2/8/2019</td>\n",
       "      <td>2</td>\n",
       "      <td>married</td>\n",
       "      <td>138066</td>\n",
       "      <td>Regular Activity</td>\n",
       "      <td>bulk</td>\n",
       "      <td>South</td>\n",
       "      <td>38</td>\n",
       "      <td>Senior</td>\n",
       "      <td>Middle Income</td>\n",
       "      <td>Parent</td>\n",
       "      <td>0</td>\n",
       "      <td>0</td>\n",
       "      <td>1</td>\n",
       "      <td>0</td>\n",
       "    </tr>\n",
       "    <tr>\n",
       "      <th>32401969</th>\n",
       "      <td>174466</td>\n",
       "      <td>195180</td>\n",
       "      <td>2</td>\n",
       "      <td>2</td>\n",
       "      <td>10</td>\n",
       "      <td>18.0</td>\n",
       "      <td>1000</td>\n",
       "      <td>1</td>\n",
       "      <td>0</td>\n",
       "      <td>Apricots</td>\n",
       "      <td>10</td>\n",
       "      <td>12.898438</td>\n",
       "      <td>Mid-range product</td>\n",
       "      <td>Regularly Busy</td>\n",
       "      <td>Regularly busy</td>\n",
       "      <td>Most orders</td>\n",
       "      <td>3</td>\n",
       "      <td>New customer</td>\n",
       "      <td>7.921875</td>\n",
       "      <td>Low spender</td>\n",
       "      <td>7.9</td>\n",
       "      <td>Frequent customer</td>\n",
       "      <td>Patrick</td>\n",
       "      <td>Henry</td>\n",
       "      <td>Male</td>\n",
       "      <td>Arizona</td>\n",
       "      <td>20</td>\n",
       "      <td>2/20/2017</td>\n",
       "      <td>3</td>\n",
       "      <td>living with parents and siblings</td>\n",
       "      <td>60256</td>\n",
       "      <td>Regular Activity</td>\n",
       "      <td>bulk</td>\n",
       "      <td>West</td>\n",
       "      <td>5</td>\n",
       "      <td>Young Adult</td>\n",
       "      <td>Middle Income</td>\n",
       "      <td>Parent</td>\n",
       "      <td>0</td>\n",
       "      <td>0</td>\n",
       "      <td>0</td>\n",
       "      <td>0</td>\n",
       "    </tr>\n",
       "    <tr>\n",
       "      <th>32401971</th>\n",
       "      <td>1565024</td>\n",
       "      <td>152886</td>\n",
       "      <td>2</td>\n",
       "      <td>1</td>\n",
       "      <td>9</td>\n",
       "      <td>30.0</td>\n",
       "      <td>1000</td>\n",
       "      <td>3</td>\n",
       "      <td>0</td>\n",
       "      <td>Apricots</td>\n",
       "      <td>10</td>\n",
       "      <td>12.898438</td>\n",
       "      <td>Mid-range product</td>\n",
       "      <td>Regularly Busy</td>\n",
       "      <td>Busiest Day</td>\n",
       "      <td>Most orders</td>\n",
       "      <td>13</td>\n",
       "      <td>Regular customer</td>\n",
       "      <td>6.812500</td>\n",
       "      <td>Low spender</td>\n",
       "      <td>5.1</td>\n",
       "      <td>Frequent customer</td>\n",
       "      <td>Gregory</td>\n",
       "      <td>Richard</td>\n",
       "      <td>Male</td>\n",
       "      <td>Pennsylvania</td>\n",
       "      <td>45</td>\n",
       "      <td>7/9/2017</td>\n",
       "      <td>1</td>\n",
       "      <td>married</td>\n",
       "      <td>41662</td>\n",
       "      <td>Regular Activity</td>\n",
       "      <td>bulk</td>\n",
       "      <td>Northeast</td>\n",
       "      <td>27</td>\n",
       "      <td>Adult</td>\n",
       "      <td>Low Income</td>\n",
       "      <td>Parent</td>\n",
       "      <td>0</td>\n",
       "      <td>0</td>\n",
       "      <td>1</td>\n",
       "      <td>0</td>\n",
       "    </tr>\n",
       "    <tr>\n",
       "      <th>32401972</th>\n",
       "      <td>2288597</td>\n",
       "      <td>87619</td>\n",
       "      <td>3</td>\n",
       "      <td>3</td>\n",
       "      <td>11</td>\n",
       "      <td>23.0</td>\n",
       "      <td>5161</td>\n",
       "      <td>2</td>\n",
       "      <td>0</td>\n",
       "      <td>Dried Mango</td>\n",
       "      <td>10</td>\n",
       "      <td>6.101562</td>\n",
       "      <td>Mid-range product</td>\n",
       "      <td>Regularly Busy</td>\n",
       "      <td>Least busy</td>\n",
       "      <td>Most orders</td>\n",
       "      <td>4</td>\n",
       "      <td>New customer</td>\n",
       "      <td>7.781250</td>\n",
       "      <td>Low spender</td>\n",
       "      <td>8.2</td>\n",
       "      <td>Frequent customer</td>\n",
       "      <td>Lawrence</td>\n",
       "      <td>Barry</td>\n",
       "      <td>Male</td>\n",
       "      <td>Alabama</td>\n",
       "      <td>47</td>\n",
       "      <td>2/17/2017</td>\n",
       "      <td>2</td>\n",
       "      <td>married</td>\n",
       "      <td>89341</td>\n",
       "      <td>Regular Activity</td>\n",
       "      <td>bulk</td>\n",
       "      <td>South</td>\n",
       "      <td>5</td>\n",
       "      <td>Adult</td>\n",
       "      <td>Middle Income</td>\n",
       "      <td>Parent</td>\n",
       "      <td>0</td>\n",
       "      <td>0</td>\n",
       "      <td>0</td>\n",
       "      <td>0</td>\n",
       "    </tr>\n",
       "    <tr>\n",
       "      <th>32401973</th>\n",
       "      <td>1064360</td>\n",
       "      <td>114159</td>\n",
       "      <td>3</td>\n",
       "      <td>6</td>\n",
       "      <td>15</td>\n",
       "      <td>30.0</td>\n",
       "      <td>42091</td>\n",
       "      <td>5</td>\n",
       "      <td>0</td>\n",
       "      <td>Pesto Sauce</td>\n",
       "      <td>10</td>\n",
       "      <td>5.699219</td>\n",
       "      <td>Mid-range product</td>\n",
       "      <td>Regularly Busy</td>\n",
       "      <td>Regularly busy</td>\n",
       "      <td>Most orders</td>\n",
       "      <td>3</td>\n",
       "      <td>New customer</td>\n",
       "      <td>7.535156</td>\n",
       "      <td>Low spender</td>\n",
       "      <td>7.7</td>\n",
       "      <td>Frequent customer</td>\n",
       "      <td>Melissa</td>\n",
       "      <td>Ayers</td>\n",
       "      <td>Female</td>\n",
       "      <td>Montana</td>\n",
       "      <td>26</td>\n",
       "      <td>10/10/2017</td>\n",
       "      <td>1</td>\n",
       "      <td>married</td>\n",
       "      <td>80812</td>\n",
       "      <td>Regular Activity</td>\n",
       "      <td>bulk</td>\n",
       "      <td>West</td>\n",
       "      <td>20</td>\n",
       "      <td>Young Adult</td>\n",
       "      <td>Middle Income</td>\n",
       "      <td>Parent</td>\n",
       "      <td>0</td>\n",
       "      <td>0</td>\n",
       "      <td>1</td>\n",
       "      <td>0</td>\n",
       "    </tr>\n",
       "  </tbody>\n",
       "</table>\n",
       "<p>32399093 rows × 42 columns</p>\n",
       "</div>"
      ],
      "text/plain": [
       "          order_id user_id  order_number  orders_day_of_week  \\\n",
       "0          2539329       1             1                   2   \n",
       "1          2398795       1             2                   3   \n",
       "2           473747       1             3                   3   \n",
       "3          2254736       1             4                   4   \n",
       "4           431534       1             5                   4   \n",
       "...            ...     ...           ...                 ...   \n",
       "32401968   1605789   58201            28                   5   \n",
       "32401969    174466  195180             2                   2   \n",
       "32401971   1565024  152886             2                   1   \n",
       "32401972   2288597   87619             3                   3   \n",
       "32401973   1064360  114159             3                   6   \n",
       "\n",
       "          order_hour_of_day  days_since_prior_order  product_id  \\\n",
       "0                         8                     NaN         196   \n",
       "1                         7                    15.0         196   \n",
       "2                        12                    21.0         196   \n",
       "3                         7                    29.0         196   \n",
       "4                        15                    28.0         196   \n",
       "...                     ...                     ...         ...   \n",
       "32401968                  7                    27.0        5161   \n",
       "32401969                 10                    18.0        1000   \n",
       "32401971                  9                    30.0        1000   \n",
       "32401972                 11                    23.0        5161   \n",
       "32401973                 15                    30.0       42091   \n",
       "\n",
       "          add_to_cart_order  reordered product_name  department_id     prices  \\\n",
       "0                         1          0         Soda              7   9.000000   \n",
       "1                         1          1         Soda              7   9.000000   \n",
       "2                         1          1         Soda              7   9.000000   \n",
       "3                         1          1         Soda              7   9.000000   \n",
       "4                         1          1         Soda              7   9.000000   \n",
       "...                     ...        ...          ...            ...        ...   \n",
       "32401968                  1          1  Dried Mango             10   6.101562   \n",
       "32401969                  1          0     Apricots             10  12.898438   \n",
       "32401971                  3          0     Apricots             10  12.898438   \n",
       "32401972                  2          0  Dried Mango             10   6.101562   \n",
       "32401973                  5          0  Pesto Sauce             10   5.699219   \n",
       "\n",
       "            price_range_loc     busiest_day    busiest_days  \\\n",
       "0         Mid-range product  Regularly Busy  Regularly busy   \n",
       "1         Mid-range product  Regularly Busy      Least busy   \n",
       "2         Mid-range product  Regularly Busy      Least busy   \n",
       "3         Mid-range product      Least busy      Least busy   \n",
       "4         Mid-range product      Least busy      Least busy   \n",
       "...                     ...             ...             ...   \n",
       "32401968  Mid-range product  Regularly Busy  Regularly busy   \n",
       "32401969  Mid-range product  Regularly Busy  Regularly busy   \n",
       "32401971  Mid-range product  Regularly Busy     Busiest Day   \n",
       "32401972  Mid-range product  Regularly Busy      Least busy   \n",
       "32401973  Mid-range product  Regularly Busy  Regularly busy   \n",
       "\n",
       "         Busiest_period_of_day  max_order      loyalty_flag  average_price  \\\n",
       "0               Average orders         10      New customer       6.367188   \n",
       "1               Average orders         10      New customer       6.367188   \n",
       "2                  Most orders         10      New customer       6.367188   \n",
       "3               Average orders         10      New customer       6.367188   \n",
       "4                  Most orders         10      New customer       6.367188   \n",
       "...                        ...        ...               ...            ...   \n",
       "32401968        Average orders         28  Regular customer       7.691406   \n",
       "32401969           Most orders          3      New customer       7.921875   \n",
       "32401971           Most orders         13  Regular customer       6.812500   \n",
       "32401972           Most orders          4      New customer       7.781250   \n",
       "32401973           Most orders          3      New customer       7.535156   \n",
       "\n",
       "         spending_flag  median_order_days     Frequency_flag first_name  \\\n",
       "0          Low spender                4.7  Frequent customer      Linda   \n",
       "1          Low spender                4.7  Frequent customer      Linda   \n",
       "2          Low spender                4.7  Frequent customer      Linda   \n",
       "3          Low spender                4.7  Frequent customer      Linda   \n",
       "4          Low spender                4.7  Frequent customer      Linda   \n",
       "...                ...                ...                ...        ...   \n",
       "32401968   Low spender                5.8  Frequent customer       Todd   \n",
       "32401969   Low spender                7.9  Frequent customer    Patrick   \n",
       "32401971   Low spender                5.1  Frequent customer    Gregory   \n",
       "32401972   Low spender                8.2  Frequent customer   Lawrence   \n",
       "32401973   Low spender                7.7  Frequent customer    Melissa   \n",
       "\n",
       "          surname  gender         state  age date_joined  \\\n",
       "0          Nguyen  Female       Alabama   31   2/17/2019   \n",
       "1          Nguyen  Female       Alabama   31   2/17/2019   \n",
       "2          Nguyen  Female       Alabama   31   2/17/2019   \n",
       "3          Nguyen  Female       Alabama   31   2/17/2019   \n",
       "4          Nguyen  Female       Alabama   31   2/17/2019   \n",
       "...           ...     ...           ...  ...         ...   \n",
       "32401968     Khan    Male       Florida   75    2/8/2019   \n",
       "32401969    Henry    Male       Arizona   20   2/20/2017   \n",
       "32401971  Richard    Male  Pennsylvania   45    7/9/2017   \n",
       "32401972    Barry    Male       Alabama   47   2/17/2017   \n",
       "32401973    Ayers  Female       Montana   26  10/10/2017   \n",
       "\n",
       "          number_of_dependants                    marital_status  income  \\\n",
       "0                            3                           married   40423   \n",
       "1                            3                           married   40423   \n",
       "2                            3                           married   40423   \n",
       "3                            3                           married   40423   \n",
       "4                            3                           married   40423   \n",
       "...                        ...                               ...     ...   \n",
       "32401968                     2                           married  138066   \n",
       "32401969                     3  living with parents and siblings   60256   \n",
       "32401971                     1                           married   41662   \n",
       "32401972                     2                           married   89341   \n",
       "32401973                     1                           married   80812   \n",
       "\n",
       "             activity_flag department     region  total_orders    age_group  \\\n",
       "0         Regular Activity  beverages      South            59  Young Adult   \n",
       "1         Regular Activity  beverages      South            59  Young Adult   \n",
       "2         Regular Activity  beverages      South            59  Young Adult   \n",
       "3         Regular Activity  beverages      South            59  Young Adult   \n",
       "4         Regular Activity  beverages      South            59  Young Adult   \n",
       "...                    ...        ...        ...           ...          ...   \n",
       "32401968  Regular Activity       bulk      South            38       Senior   \n",
       "32401969  Regular Activity       bulk       West             5  Young Adult   \n",
       "32401971  Regular Activity       bulk  Northeast            27        Adult   \n",
       "32401972  Regular Activity       bulk      South             5        Adult   \n",
       "32401973  Regular Activity       bulk       West            20  Young Adult   \n",
       "\n",
       "           income_group dependant_flag  baby_status  pet_status  \\\n",
       "0            Low Income         Parent            0           0   \n",
       "1            Low Income         Parent            0           0   \n",
       "2            Low Income         Parent            0           0   \n",
       "3            Low Income         Parent            0           0   \n",
       "4            Low Income         Parent            0           0   \n",
       "...                 ...            ...          ...         ...   \n",
       "32401968  Middle Income         Parent            0           0   \n",
       "32401969  Middle Income         Parent            0           0   \n",
       "32401971     Low Income         Parent            0           0   \n",
       "32401972  Middle Income         Parent            0           0   \n",
       "32401973  Middle Income         Parent            0           0   \n",
       "\n",
       "          veggie_status  alcohol_status  \n",
       "0                     1               0  \n",
       "1                     1               0  \n",
       "2                     1               0  \n",
       "3                     1               0  \n",
       "4                     1               0  \n",
       "...                 ...             ...  \n",
       "32401968              1               0  \n",
       "32401969              0               0  \n",
       "32401971              1               0  \n",
       "32401972              0               0  \n",
       "32401973              1               0  \n",
       "\n",
       "[32399093 rows x 42 columns]"
      ]
     },
     "execution_count": 304,
     "metadata": {},
     "output_type": "execute_result"
    }
   ],
   "source": [
    "df_merged['prices'] = np.clip(df_merged.prices.values, a_min=1, a_max=25)\n",
    "df_merged"
   ]
  },
  {
   "cell_type": "markdown",
   "id": "dd1f5246",
   "metadata": {},
   "source": [
    "# 07. Aggregating the max, mean, and min variables on a customer-profile level for usage frequency and expenditure."
   ]
  },
  {
   "cell_type": "markdown",
   "id": "0602d4ac",
   "metadata": {},
   "source": [
    "## a. Age profile aggregation"
   ]
  },
  {
   "cell_type": "code",
   "execution_count": 305,
   "id": "5a602d25",
   "metadata": {},
   "outputs": [
    {
     "data": {
      "text/html": [
       "<div>\n",
       "<style scoped>\n",
       "    .dataframe tbody tr th:only-of-type {\n",
       "        vertical-align: middle;\n",
       "    }\n",
       "\n",
       "    .dataframe tbody tr th {\n",
       "        vertical-align: top;\n",
       "    }\n",
       "\n",
       "    .dataframe thead tr th {\n",
       "        text-align: left;\n",
       "    }\n",
       "\n",
       "    .dataframe thead tr:last-of-type th {\n",
       "        text-align: right;\n",
       "    }\n",
       "</style>\n",
       "<table border=\"1\" class=\"dataframe\">\n",
       "  <thead>\n",
       "    <tr>\n",
       "      <th></th>\n",
       "      <th colspan=\"3\" halign=\"left\">prices</th>\n",
       "    </tr>\n",
       "    <tr>\n",
       "      <th></th>\n",
       "      <th>mean</th>\n",
       "      <th>min</th>\n",
       "      <th>max</th>\n",
       "    </tr>\n",
       "    <tr>\n",
       "      <th>age_group</th>\n",
       "      <th></th>\n",
       "      <th></th>\n",
       "      <th></th>\n",
       "    </tr>\n",
       "  </thead>\n",
       "  <tbody>\n",
       "    <tr>\n",
       "      <th>Adult</th>\n",
       "      <td>7.792969</td>\n",
       "      <td>1.0</td>\n",
       "      <td>25.0</td>\n",
       "    </tr>\n",
       "    <tr>\n",
       "      <th>Senior</th>\n",
       "      <td>7.796875</td>\n",
       "      <td>1.0</td>\n",
       "      <td>25.0</td>\n",
       "    </tr>\n",
       "    <tr>\n",
       "      <th>Young Adult</th>\n",
       "      <td>7.789062</td>\n",
       "      <td>1.0</td>\n",
       "      <td>25.0</td>\n",
       "    </tr>\n",
       "  </tbody>\n",
       "</table>\n",
       "</div>"
      ],
      "text/plain": [
       "               prices           \n",
       "                 mean  min   max\n",
       "age_group                       \n",
       "Adult        7.792969  1.0  25.0\n",
       "Senior       7.796875  1.0  25.0\n",
       "Young Adult  7.789062  1.0  25.0"
      ]
     },
     "execution_count": 305,
     "metadata": {},
     "output_type": "execute_result"
    }
   ],
   "source": [
    "df_merged.groupby('age_group').agg({'prices':['mean', 'min', 'max']}) "
   ]
  },
  {
   "cell_type": "code",
   "execution_count": 306,
   "id": "6ad20410",
   "metadata": {},
   "outputs": [
    {
     "data": {
      "text/html": [
       "<div>\n",
       "<style scoped>\n",
       "    .dataframe tbody tr th:only-of-type {\n",
       "        vertical-align: middle;\n",
       "    }\n",
       "\n",
       "    .dataframe tbody tr th {\n",
       "        vertical-align: top;\n",
       "    }\n",
       "\n",
       "    .dataframe thead tr th {\n",
       "        text-align: left;\n",
       "    }\n",
       "\n",
       "    .dataframe thead tr:last-of-type th {\n",
       "        text-align: right;\n",
       "    }\n",
       "</style>\n",
       "<table border=\"1\" class=\"dataframe\">\n",
       "  <thead>\n",
       "    <tr>\n",
       "      <th></th>\n",
       "      <th colspan=\"3\" halign=\"left\">median_order_days</th>\n",
       "    </tr>\n",
       "    <tr>\n",
       "      <th></th>\n",
       "      <th>mean</th>\n",
       "      <th>min</th>\n",
       "      <th>max</th>\n",
       "    </tr>\n",
       "    <tr>\n",
       "      <th>age_group</th>\n",
       "      <th></th>\n",
       "      <th></th>\n",
       "      <th></th>\n",
       "    </tr>\n",
       "  </thead>\n",
       "  <tbody>\n",
       "    <tr>\n",
       "      <th>Adult</th>\n",
       "      <td>7.460096</td>\n",
       "      <td>1.0</td>\n",
       "      <td>25.0</td>\n",
       "    </tr>\n",
       "    <tr>\n",
       "      <th>Senior</th>\n",
       "      <td>7.466432</td>\n",
       "      <td>1.0</td>\n",
       "      <td>23.8</td>\n",
       "    </tr>\n",
       "    <tr>\n",
       "      <th>Young Adult</th>\n",
       "      <td>7.452556</td>\n",
       "      <td>1.0</td>\n",
       "      <td>21.3</td>\n",
       "    </tr>\n",
       "  </tbody>\n",
       "</table>\n",
       "</div>"
      ],
      "text/plain": [
       "            median_order_days           \n",
       "                         mean  min   max\n",
       "age_group                               \n",
       "Adult                7.460096  1.0  25.0\n",
       "Senior               7.466432  1.0  23.8\n",
       "Young Adult          7.452556  1.0  21.3"
      ]
     },
     "execution_count": 306,
     "metadata": {},
     "output_type": "execute_result"
    }
   ],
   "source": [
    "##aggregating for age group expenditure\n",
    "df_merged.groupby('age_group').agg({'median_order_days':['mean', 'min', 'max']})"
   ]
  },
  {
   "cell_type": "markdown",
   "id": "6083dd4d",
   "metadata": {},
   "source": [
    "## b. Income profile aggregation"
   ]
  },
  {
   "cell_type": "code",
   "execution_count": 215,
   "id": "b39ec303",
   "metadata": {},
   "outputs": [
    {
     "data": {
      "text/plain": [
       "Middle Income    25571525\n",
       "Low Income        3879089\n",
       "High Income       2951361\n",
       "Name: income_group, dtype: int64"
      ]
     },
     "execution_count": 215,
     "metadata": {},
     "output_type": "execute_result"
    }
   ],
   "source": [
    "df_merged['income_group'].value_counts()"
   ]
  },
  {
   "cell_type": "code",
   "execution_count": 229,
   "id": "f659cd5a",
   "metadata": {},
   "outputs": [
    {
     "data": {
      "text/html": [
       "<div>\n",
       "<style scoped>\n",
       "    .dataframe tbody tr th:only-of-type {\n",
       "        vertical-align: middle;\n",
       "    }\n",
       "\n",
       "    .dataframe tbody tr th {\n",
       "        vertical-align: top;\n",
       "    }\n",
       "\n",
       "    .dataframe thead tr th {\n",
       "        text-align: left;\n",
       "    }\n",
       "\n",
       "    .dataframe thead tr:last-of-type th {\n",
       "        text-align: right;\n",
       "    }\n",
       "</style>\n",
       "<table border=\"1\" class=\"dataframe\">\n",
       "  <thead>\n",
       "    <tr>\n",
       "      <th></th>\n",
       "      <th colspan=\"3\" halign=\"left\">prices</th>\n",
       "    </tr>\n",
       "    <tr>\n",
       "      <th></th>\n",
       "      <th>mean</th>\n",
       "      <th>min</th>\n",
       "      <th>max</th>\n",
       "    </tr>\n",
       "    <tr>\n",
       "      <th>income_group</th>\n",
       "      <th></th>\n",
       "      <th></th>\n",
       "      <th></th>\n",
       "    </tr>\n",
       "  </thead>\n",
       "  <tbody>\n",
       "    <tr>\n",
       "      <th>High Income</th>\n",
       "      <td>7.964673</td>\n",
       "      <td>1.0</td>\n",
       "      <td>25.0</td>\n",
       "    </tr>\n",
       "    <tr>\n",
       "      <th>Low Income</th>\n",
       "      <td>6.741055</td>\n",
       "      <td>1.0</td>\n",
       "      <td>25.0</td>\n",
       "    </tr>\n",
       "    <tr>\n",
       "      <th>Middle Income</th>\n",
       "      <td>7.933520</td>\n",
       "      <td>1.0</td>\n",
       "      <td>25.0</td>\n",
       "    </tr>\n",
       "  </tbody>\n",
       "</table>\n",
       "</div>"
      ],
      "text/plain": [
       "                 prices           \n",
       "                   mean  min   max\n",
       "income_group                      \n",
       "High Income    7.964673  1.0  25.0\n",
       "Low Income     6.741055  1.0  25.0\n",
       "Middle Income  7.933520  1.0  25.0"
      ]
     },
     "execution_count": 229,
     "metadata": {},
     "output_type": "execute_result"
    }
   ],
   "source": [
    "#aggregating for income bracket expenditure\n",
    "df_merged.groupby('income_group').agg({'prices': ['mean', 'min', 'max']})"
   ]
  },
  {
   "cell_type": "code",
   "execution_count": 99,
   "id": "485bc67d",
   "metadata": {},
   "outputs": [
    {
     "data": {
      "text/html": [
       "<div>\n",
       "<style scoped>\n",
       "    .dataframe tbody tr th:only-of-type {\n",
       "        vertical-align: middle;\n",
       "    }\n",
       "\n",
       "    .dataframe tbody tr th {\n",
       "        vertical-align: top;\n",
       "    }\n",
       "\n",
       "    .dataframe thead tr th {\n",
       "        text-align: left;\n",
       "    }\n",
       "\n",
       "    .dataframe thead tr:last-of-type th {\n",
       "        text-align: right;\n",
       "    }\n",
       "</style>\n",
       "<table border=\"1\" class=\"dataframe\">\n",
       "  <thead>\n",
       "    <tr>\n",
       "      <th></th>\n",
       "      <th colspan=\"3\" halign=\"left\">median_order_days</th>\n",
       "    </tr>\n",
       "    <tr>\n",
       "      <th></th>\n",
       "      <th>mean</th>\n",
       "      <th>min</th>\n",
       "      <th>max</th>\n",
       "    </tr>\n",
       "    <tr>\n",
       "      <th>income_group</th>\n",
       "      <th></th>\n",
       "      <th></th>\n",
       "      <th></th>\n",
       "    </tr>\n",
       "  </thead>\n",
       "  <tbody>\n",
       "    <tr>\n",
       "      <th>High Income</th>\n",
       "      <td>7.659638</td>\n",
       "      <td>2.2</td>\n",
       "      <td>25.0</td>\n",
       "    </tr>\n",
       "    <tr>\n",
       "      <th>Low Income</th>\n",
       "      <td>6.131468</td>\n",
       "      <td>1.0</td>\n",
       "      <td>14.2</td>\n",
       "    </tr>\n",
       "    <tr>\n",
       "      <th>Middle Income</th>\n",
       "      <td>7.639107</td>\n",
       "      <td>1.0</td>\n",
       "      <td>23.2</td>\n",
       "    </tr>\n",
       "  </tbody>\n",
       "</table>\n",
       "</div>"
      ],
      "text/plain": [
       "              median_order_days           \n",
       "                           mean  min   max\n",
       "income_group                              \n",
       "High Income            7.659638  2.2  25.0\n",
       "Low Income             6.131468  1.0  14.2\n",
       "Middle Income          7.639107  1.0  23.2"
      ]
     },
     "execution_count": 99,
     "metadata": {},
     "output_type": "execute_result"
    }
   ],
   "source": [
    "df_merged.groupby('income_group').agg({'median_order_days': ['mean', 'min', 'max']})"
   ]
  },
  {
   "cell_type": "markdown",
   "id": "9eb1662f",
   "metadata": {},
   "source": [
    "## c. Number of dependants profile aggregation"
   ]
  },
  {
   "cell_type": "code",
   "execution_count": 230,
   "id": "2ca20758",
   "metadata": {},
   "outputs": [
    {
     "data": {
      "text/plain": [
       "Parent           24305228\n",
       "No dependants     8096747\n",
       "Name: dependant_flag, dtype: int64"
      ]
     },
     "execution_count": 230,
     "metadata": {},
     "output_type": "execute_result"
    }
   ],
   "source": [
    "df_merged['dependant_flag'].value_counts()"
   ]
  },
  {
   "cell_type": "code",
   "execution_count": 231,
   "id": "d78a60fe",
   "metadata": {},
   "outputs": [
    {
     "data": {
      "text/html": [
       "<div>\n",
       "<style scoped>\n",
       "    .dataframe tbody tr th:only-of-type {\n",
       "        vertical-align: middle;\n",
       "    }\n",
       "\n",
       "    .dataframe tbody tr th {\n",
       "        vertical-align: top;\n",
       "    }\n",
       "\n",
       "    .dataframe thead tr th {\n",
       "        text-align: left;\n",
       "    }\n",
       "\n",
       "    .dataframe thead tr:last-of-type th {\n",
       "        text-align: right;\n",
       "    }\n",
       "</style>\n",
       "<table border=\"1\" class=\"dataframe\">\n",
       "  <thead>\n",
       "    <tr>\n",
       "      <th></th>\n",
       "      <th colspan=\"3\" halign=\"left\">prices</th>\n",
       "    </tr>\n",
       "    <tr>\n",
       "      <th></th>\n",
       "      <th>mean</th>\n",
       "      <th>min</th>\n",
       "      <th>max</th>\n",
       "    </tr>\n",
       "    <tr>\n",
       "      <th>dependant_flag</th>\n",
       "      <th></th>\n",
       "      <th></th>\n",
       "      <th></th>\n",
       "    </tr>\n",
       "  </thead>\n",
       "  <tbody>\n",
       "    <tr>\n",
       "      <th>No dependants</th>\n",
       "      <td>7.792449</td>\n",
       "      <td>1.0</td>\n",
       "      <td>25.0</td>\n",
       "    </tr>\n",
       "    <tr>\n",
       "      <th>Parent</th>\n",
       "      <td>7.793981</td>\n",
       "      <td>1.0</td>\n",
       "      <td>25.0</td>\n",
       "    </tr>\n",
       "  </tbody>\n",
       "</table>\n",
       "</div>"
      ],
      "text/plain": [
       "                  prices           \n",
       "                    mean  min   max\n",
       "dependant_flag                     \n",
       "No dependants   7.792449  1.0  25.0\n",
       "Parent          7.793981  1.0  25.0"
      ]
     },
     "execution_count": 231,
     "metadata": {},
     "output_type": "execute_result"
    }
   ],
   "source": [
    "df_merged.groupby('dependant_flag').agg({'prices':['mean', 'min', 'max']})"
   ]
  },
  {
   "cell_type": "code",
   "execution_count": 232,
   "id": "d4121198",
   "metadata": {},
   "outputs": [
    {
     "data": {
      "text/html": [
       "<div>\n",
       "<style scoped>\n",
       "    .dataframe tbody tr th:only-of-type {\n",
       "        vertical-align: middle;\n",
       "    }\n",
       "\n",
       "    .dataframe tbody tr th {\n",
       "        vertical-align: top;\n",
       "    }\n",
       "\n",
       "    .dataframe thead tr th {\n",
       "        text-align: left;\n",
       "    }\n",
       "\n",
       "    .dataframe thead tr:last-of-type th {\n",
       "        text-align: right;\n",
       "    }\n",
       "</style>\n",
       "<table border=\"1\" class=\"dataframe\">\n",
       "  <thead>\n",
       "    <tr>\n",
       "      <th></th>\n",
       "      <th colspan=\"3\" halign=\"left\">median_order_days</th>\n",
       "    </tr>\n",
       "    <tr>\n",
       "      <th></th>\n",
       "      <th>mean</th>\n",
       "      <th>min</th>\n",
       "      <th>max</th>\n",
       "    </tr>\n",
       "    <tr>\n",
       "      <th>dependant_flag</th>\n",
       "      <th></th>\n",
       "      <th></th>\n",
       "      <th></th>\n",
       "    </tr>\n",
       "  </thead>\n",
       "  <tbody>\n",
       "    <tr>\n",
       "      <th>No dependants</th>\n",
       "      <td>7.463585</td>\n",
       "      <td>1.0</td>\n",
       "      <td>23.8</td>\n",
       "    </tr>\n",
       "    <tr>\n",
       "      <th>Parent</th>\n",
       "      <td>7.459478</td>\n",
       "      <td>1.0</td>\n",
       "      <td>25.0</td>\n",
       "    </tr>\n",
       "  </tbody>\n",
       "</table>\n",
       "</div>"
      ],
      "text/plain": [
       "               median_order_days           \n",
       "                            mean  min   max\n",
       "dependant_flag                             \n",
       "No dependants           7.463585  1.0  23.8\n",
       "Parent                  7.459478  1.0  25.0"
      ]
     },
     "execution_count": 232,
     "metadata": {},
     "output_type": "execute_result"
    }
   ],
   "source": [
    "df_merged.groupby('dependant_flag').agg({'median_order_days':['mean', 'min', 'max']})"
   ]
  },
  {
   "cell_type": "markdown",
   "id": "82ebf6d5",
   "metadata": {},
   "source": [
    "## d. Baby item profile aggregation"
   ]
  },
  {
   "cell_type": "code",
   "execution_count": 233,
   "id": "125c5277",
   "metadata": {},
   "outputs": [
    {
     "data": {
      "text/plain": [
       "0    22429577\n",
       "1     9972398\n",
       "Name: baby_status, dtype: int64"
      ]
     },
     "execution_count": 233,
     "metadata": {},
     "output_type": "execute_result"
    }
   ],
   "source": [
    "df_merged['baby_status'] = [1 if x == 'babies' else 0 for x in df_merged['department']]\n",
    "df_merged['baby_status']=df_merged.groupby(['user_id'])['baby_status'].transform(np.max)\n",
    "df_merged['baby_status'].value_counts(dropna=False)"
   ]
  },
  {
   "cell_type": "code",
   "execution_count": 234,
   "id": "77ef425a",
   "metadata": {},
   "outputs": [],
   "source": [
    "#Reducing memory \n",
    "df_active['baby_status']=df_active['baby_status'].astype('int8')"
   ]
  },
  {
   "cell_type": "code",
   "execution_count": 235,
   "id": "dd0d368f",
   "metadata": {},
   "outputs": [
    {
     "data": {
      "text/html": [
       "<div>\n",
       "<style scoped>\n",
       "    .dataframe tbody tr th:only-of-type {\n",
       "        vertical-align: middle;\n",
       "    }\n",
       "\n",
       "    .dataframe tbody tr th {\n",
       "        vertical-align: top;\n",
       "    }\n",
       "\n",
       "    .dataframe thead tr th {\n",
       "        text-align: left;\n",
       "    }\n",
       "\n",
       "    .dataframe thead tr:last-of-type th {\n",
       "        text-align: right;\n",
       "    }\n",
       "</style>\n",
       "<table border=\"1\" class=\"dataframe\">\n",
       "  <thead>\n",
       "    <tr>\n",
       "      <th></th>\n",
       "      <th colspan=\"3\" halign=\"left\">median_order_days</th>\n",
       "    </tr>\n",
       "    <tr>\n",
       "      <th></th>\n",
       "      <th>mean</th>\n",
       "      <th>min</th>\n",
       "      <th>max</th>\n",
       "    </tr>\n",
       "    <tr>\n",
       "      <th>baby_status</th>\n",
       "      <th></th>\n",
       "      <th></th>\n",
       "      <th></th>\n",
       "    </tr>\n",
       "  </thead>\n",
       "  <tbody>\n",
       "    <tr>\n",
       "      <th>0</th>\n",
       "      <td>7.439545</td>\n",
       "      <td>1.0</td>\n",
       "      <td>25.0</td>\n",
       "    </tr>\n",
       "    <tr>\n",
       "      <th>1</th>\n",
       "      <td>7.507644</td>\n",
       "      <td>1.4</td>\n",
       "      <td>18.2</td>\n",
       "    </tr>\n",
       "  </tbody>\n",
       "</table>\n",
       "</div>"
      ],
      "text/plain": [
       "            median_order_days           \n",
       "                         mean  min   max\n",
       "baby_status                             \n",
       "0                    7.439545  1.0  25.0\n",
       "1                    7.507644  1.4  18.2"
      ]
     },
     "execution_count": 235,
     "metadata": {},
     "output_type": "execute_result"
    }
   ],
   "source": [
    "# 0 = didnt purchase baby items. 1 = purchased baby items\n",
    "df_merged.groupby('baby_status').agg({'median_order_days':['mean', 'min', 'max']}) "
   ]
  },
  {
   "cell_type": "code",
   "execution_count": 236,
   "id": "5585d4fc",
   "metadata": {},
   "outputs": [
    {
     "data": {
      "text/html": [
       "<div>\n",
       "<style scoped>\n",
       "    .dataframe tbody tr th:only-of-type {\n",
       "        vertical-align: middle;\n",
       "    }\n",
       "\n",
       "    .dataframe tbody tr th {\n",
       "        vertical-align: top;\n",
       "    }\n",
       "\n",
       "    .dataframe thead tr th {\n",
       "        text-align: left;\n",
       "    }\n",
       "\n",
       "    .dataframe thead tr:last-of-type th {\n",
       "        text-align: right;\n",
       "    }\n",
       "</style>\n",
       "<table border=\"1\" class=\"dataframe\">\n",
       "  <thead>\n",
       "    <tr>\n",
       "      <th></th>\n",
       "      <th colspan=\"3\" halign=\"left\">prices</th>\n",
       "    </tr>\n",
       "    <tr>\n",
       "      <th></th>\n",
       "      <th>mean</th>\n",
       "      <th>min</th>\n",
       "      <th>max</th>\n",
       "    </tr>\n",
       "    <tr>\n",
       "      <th>baby_status</th>\n",
       "      <th></th>\n",
       "      <th></th>\n",
       "      <th></th>\n",
       "    </tr>\n",
       "  </thead>\n",
       "  <tbody>\n",
       "    <tr>\n",
       "      <th>0</th>\n",
       "      <td>7.775238</td>\n",
       "      <td>1.0</td>\n",
       "      <td>25.0</td>\n",
       "    </tr>\n",
       "    <tr>\n",
       "      <th>1</th>\n",
       "      <td>7.834893</td>\n",
       "      <td>1.0</td>\n",
       "      <td>25.0</td>\n",
       "    </tr>\n",
       "  </tbody>\n",
       "</table>\n",
       "</div>"
      ],
      "text/plain": [
       "               prices           \n",
       "                 mean  min   max\n",
       "baby_status                     \n",
       "0            7.775238  1.0  25.0\n",
       "1            7.834893  1.0  25.0"
      ]
     },
     "execution_count": 236,
     "metadata": {},
     "output_type": "execute_result"
    }
   ],
   "source": [
    "df_merged.groupby('baby_status').agg({'prices':['mean', 'min', 'max']}) "
   ]
  },
  {
   "cell_type": "markdown",
   "id": "d9ace369",
   "metadata": {},
   "source": [
    "## e. Pet Profile aggregation"
   ]
  },
  {
   "cell_type": "code",
   "execution_count": 314,
   "id": "e9926056",
   "metadata": {},
   "outputs": [
    {
     "data": {
      "text/plain": [
       "0    28871445\n",
       "1     3527648\n",
       "Name: pet_status, dtype: int64"
      ]
     },
     "execution_count": 314,
     "metadata": {},
     "output_type": "execute_result"
    }
   ],
   "source": [
    "df_merged['pet_status'].value_counts()"
   ]
  },
  {
   "cell_type": "code",
   "execution_count": 312,
   "id": "7319d39d",
   "metadata": {},
   "outputs": [
    {
     "data": {
      "text/html": [
       "<div>\n",
       "<style scoped>\n",
       "    .dataframe tbody tr th:only-of-type {\n",
       "        vertical-align: middle;\n",
       "    }\n",
       "\n",
       "    .dataframe tbody tr th {\n",
       "        vertical-align: top;\n",
       "    }\n",
       "\n",
       "    .dataframe thead tr th {\n",
       "        text-align: left;\n",
       "    }\n",
       "\n",
       "    .dataframe thead tr:last-of-type th {\n",
       "        text-align: right;\n",
       "    }\n",
       "</style>\n",
       "<table border=\"1\" class=\"dataframe\">\n",
       "  <thead>\n",
       "    <tr>\n",
       "      <th></th>\n",
       "      <th colspan=\"3\" halign=\"left\">median_order_days</th>\n",
       "      <th>pet_status</th>\n",
       "    </tr>\n",
       "    <tr>\n",
       "      <th></th>\n",
       "      <th>mean</th>\n",
       "      <th>min</th>\n",
       "      <th>max</th>\n",
       "      <th></th>\n",
       "    </tr>\n",
       "    <tr>\n",
       "      <th>pet_status</th>\n",
       "      <th></th>\n",
       "      <th></th>\n",
       "      <th></th>\n",
       "      <th></th>\n",
       "    </tr>\n",
       "  </thead>\n",
       "  <tbody>\n",
       "    <tr>\n",
       "      <th>0</th>\n",
       "      <td>7.461694</td>\n",
       "      <td>1.0</td>\n",
       "      <td>25.0</td>\n",
       "      <td>never purchased pet items</td>\n",
       "    </tr>\n",
       "    <tr>\n",
       "      <th>1</th>\n",
       "      <td>7.450979</td>\n",
       "      <td>1.7</td>\n",
       "      <td>13.9</td>\n",
       "      <td>purchased pet items</td>\n",
       "    </tr>\n",
       "  </tbody>\n",
       "</table>\n",
       "</div>"
      ],
      "text/plain": [
       "           median_order_days                            pet_status\n",
       "                        mean  min   max                           \n",
       "pet_status                                                        \n",
       "0                   7.461694  1.0  25.0  never purchased pet items\n",
       "1                   7.450979  1.7  13.9        purchased pet items"
      ]
     },
     "execution_count": 312,
     "metadata": {},
     "output_type": "execute_result"
    }
   ],
   "source": [
    "df_pet=df_merged.groupby(['pet_status']).agg({'median_order_days':['mean', 'min', 'max']})\n",
    "df_pet.loc[0:1,'pet_status']=['never purchased pet items', 'purchased pet items']\n",
    "df_pet"
   ]
  },
  {
   "cell_type": "code",
   "execution_count": 313,
   "id": "ca78d15d",
   "metadata": {},
   "outputs": [
    {
     "data": {
      "text/html": [
       "<div>\n",
       "<style scoped>\n",
       "    .dataframe tbody tr th:only-of-type {\n",
       "        vertical-align: middle;\n",
       "    }\n",
       "\n",
       "    .dataframe tbody tr th {\n",
       "        vertical-align: top;\n",
       "    }\n",
       "\n",
       "    .dataframe thead tr th {\n",
       "        text-align: left;\n",
       "    }\n",
       "\n",
       "    .dataframe thead tr:last-of-type th {\n",
       "        text-align: right;\n",
       "    }\n",
       "</style>\n",
       "<table border=\"1\" class=\"dataframe\">\n",
       "  <thead>\n",
       "    <tr>\n",
       "      <th></th>\n",
       "      <th colspan=\"3\" halign=\"left\">prices</th>\n",
       "      <th>pet_status</th>\n",
       "    </tr>\n",
       "    <tr>\n",
       "      <th></th>\n",
       "      <th>mean</th>\n",
       "      <th>min</th>\n",
       "      <th>max</th>\n",
       "      <th></th>\n",
       "    </tr>\n",
       "    <tr>\n",
       "      <th>pet_status</th>\n",
       "      <th></th>\n",
       "      <th></th>\n",
       "      <th></th>\n",
       "      <th></th>\n",
       "    </tr>\n",
       "  </thead>\n",
       "  <tbody>\n",
       "    <tr>\n",
       "      <th>0</th>\n",
       "      <td>7.789062</td>\n",
       "      <td>1.0</td>\n",
       "      <td>25.0</td>\n",
       "      <td>never purchased pet items</td>\n",
       "    </tr>\n",
       "    <tr>\n",
       "      <th>1</th>\n",
       "      <td>7.816406</td>\n",
       "      <td>1.0</td>\n",
       "      <td>25.0</td>\n",
       "      <td>purchased pet items</td>\n",
       "    </tr>\n",
       "  </tbody>\n",
       "</table>\n",
       "</div>"
      ],
      "text/plain": [
       "              prices                            pet_status\n",
       "                mean  min   max                           \n",
       "pet_status                                                \n",
       "0           7.789062  1.0  25.0  never purchased pet items\n",
       "1           7.816406  1.0  25.0        purchased pet items"
      ]
     },
     "execution_count": 313,
     "metadata": {},
     "output_type": "execute_result"
    }
   ],
   "source": [
    "df_pet=df_merged.groupby(['pet_status']).agg({'prices':['mean', 'min', 'max']})\n",
    "df_pet.loc[0:1,'pet_status']=['never purchased pet items', 'purchased pet items']\n",
    "df_pet"
   ]
  },
  {
   "cell_type": "markdown",
   "id": "9ee141bb",
   "metadata": {},
   "source": [
    "## f. Vegetarian Profile aggregation"
   ]
  },
  {
   "cell_type": "code",
   "execution_count": 315,
   "id": "75a355d0",
   "metadata": {},
   "outputs": [
    {
     "data": {
      "text/plain": [
       "1    32017839\n",
       "0      381254\n",
       "Name: veggie_status, dtype: int64"
      ]
     },
     "execution_count": 315,
     "metadata": {},
     "output_type": "execute_result"
    }
   ],
   "source": [
    "df_merged['veggie_status'].value_counts()"
   ]
  },
  {
   "cell_type": "code",
   "execution_count": 239,
   "id": "57fa8ed3",
   "metadata": {},
   "outputs": [
    {
     "data": {
      "text/html": [
       "<div>\n",
       "<style scoped>\n",
       "    .dataframe tbody tr th:only-of-type {\n",
       "        vertical-align: middle;\n",
       "    }\n",
       "\n",
       "    .dataframe tbody tr th {\n",
       "        vertical-align: top;\n",
       "    }\n",
       "\n",
       "    .dataframe thead tr th {\n",
       "        text-align: left;\n",
       "    }\n",
       "\n",
       "    .dataframe thead tr:last-of-type th {\n",
       "        text-align: right;\n",
       "    }\n",
       "</style>\n",
       "<table border=\"1\" class=\"dataframe\">\n",
       "  <thead>\n",
       "    <tr>\n",
       "      <th></th>\n",
       "      <th colspan=\"3\" halign=\"left\">median_order_days</th>\n",
       "      <th colspan=\"3\" halign=\"left\">prices</th>\n",
       "      <th>veggie_status</th>\n",
       "    </tr>\n",
       "    <tr>\n",
       "      <th></th>\n",
       "      <th>mean</th>\n",
       "      <th>min</th>\n",
       "      <th>max</th>\n",
       "      <th>mean</th>\n",
       "      <th>min</th>\n",
       "      <th>max</th>\n",
       "      <th></th>\n",
       "    </tr>\n",
       "    <tr>\n",
       "      <th>veggie_status</th>\n",
       "      <th></th>\n",
       "      <th></th>\n",
       "      <th></th>\n",
       "      <th></th>\n",
       "      <th></th>\n",
       "      <th></th>\n",
       "      <th></th>\n",
       "    </tr>\n",
       "  </thead>\n",
       "  <tbody>\n",
       "    <tr>\n",
       "      <th>0</th>\n",
       "      <td>6.75932</td>\n",
       "      <td>1.0</td>\n",
       "      <td>15.0</td>\n",
       "      <td>7.009687</td>\n",
       "      <td>1.0</td>\n",
       "      <td>20.0</td>\n",
       "      <td>vegetarian</td>\n",
       "    </tr>\n",
       "    <tr>\n",
       "      <th>1</th>\n",
       "      <td>7.46890</td>\n",
       "      <td>1.0</td>\n",
       "      <td>25.0</td>\n",
       "      <td>7.802985</td>\n",
       "      <td>1.0</td>\n",
       "      <td>25.0</td>\n",
       "      <td>not vegetarian</td>\n",
       "    </tr>\n",
       "  </tbody>\n",
       "</table>\n",
       "</div>"
      ],
      "text/plain": [
       "              median_order_days               prices             \\\n",
       "                           mean  min   max      mean  min   max   \n",
       "veggie_status                                                     \n",
       "0                       6.75932  1.0  15.0  7.009687  1.0  20.0   \n",
       "1                       7.46890  1.0  25.0  7.802985  1.0  25.0   \n",
       "\n",
       "                 veggie_status  \n",
       "                                \n",
       "veggie_status                   \n",
       "0                   vegetarian  \n",
       "1               not vegetarian  "
      ]
     },
     "execution_count": 239,
     "metadata": {},
     "output_type": "execute_result"
    }
   ],
   "source": [
    "#Aggregating the max, mean, and min variables on income-profile level for usage frequency and expenditure.\n",
    "df_veggie=df_merged.groupby(['veggie_status']).agg({'median_order_days':['mean', 'min', 'max'], 'prices':['mean', 'min', 'max']})\n",
    "df_veggie.loc[0:1,'veggie_status']=['vegetarian', ' not vegetarian']\n",
    "df_veggie"
   ]
  },
  {
   "cell_type": "markdown",
   "id": "2e565963",
   "metadata": {},
   "source": [
    "## g. Alcohol drinker Profile aggregation"
   ]
  },
  {
   "cell_type": "code",
   "execution_count": 316,
   "id": "193e1e21",
   "metadata": {},
   "outputs": [
    {
     "data": {
      "text/plain": [
       "0    29985562\n",
       "1     2413531\n",
       "Name: alcohol_status, dtype: int64"
      ]
     },
     "execution_count": 316,
     "metadata": {},
     "output_type": "execute_result"
    }
   ],
   "source": [
    "df_merged['alcohol_status'].value_counts()"
   ]
  },
  {
   "cell_type": "code",
   "execution_count": 319,
   "id": "7e6a1d1d",
   "metadata": {},
   "outputs": [
    {
     "data": {
      "text/html": [
       "<div>\n",
       "<style scoped>\n",
       "    .dataframe tbody tr th:only-of-type {\n",
       "        vertical-align: middle;\n",
       "    }\n",
       "\n",
       "    .dataframe tbody tr th {\n",
       "        vertical-align: top;\n",
       "    }\n",
       "\n",
       "    .dataframe thead tr th {\n",
       "        text-align: left;\n",
       "    }\n",
       "\n",
       "    .dataframe thead tr:last-of-type th {\n",
       "        text-align: right;\n",
       "    }\n",
       "</style>\n",
       "<table border=\"1\" class=\"dataframe\">\n",
       "  <thead>\n",
       "    <tr>\n",
       "      <th></th>\n",
       "      <th colspan=\"3\" halign=\"left\">median_order_days</th>\n",
       "      <th>alcohol_status</th>\n",
       "    </tr>\n",
       "    <tr>\n",
       "      <th></th>\n",
       "      <th>mean</th>\n",
       "      <th>min</th>\n",
       "      <th>max</th>\n",
       "      <th></th>\n",
       "    </tr>\n",
       "    <tr>\n",
       "      <th>alcohol_status</th>\n",
       "      <th></th>\n",
       "      <th></th>\n",
       "      <th></th>\n",
       "      <th></th>\n",
       "    </tr>\n",
       "  </thead>\n",
       "  <tbody>\n",
       "    <tr>\n",
       "      <th>0</th>\n",
       "      <td>7.462034</td>\n",
       "      <td>1.0</td>\n",
       "      <td>25.0</td>\n",
       "      <td>not alcohol drinker</td>\n",
       "    </tr>\n",
       "    <tr>\n",
       "      <th>1</th>\n",
       "      <td>7.441809</td>\n",
       "      <td>1.3</td>\n",
       "      <td>14.7</td>\n",
       "      <td>alcohol drinker</td>\n",
       "    </tr>\n",
       "  </tbody>\n",
       "</table>\n",
       "</div>"
      ],
      "text/plain": [
       "               median_order_days                  alcohol_status\n",
       "                            mean  min   max                     \n",
       "alcohol_status                                                  \n",
       "0                       7.462034  1.0  25.0  not alcohol drinker\n",
       "1                       7.441809  1.3  14.7      alcohol drinker"
      ]
     },
     "execution_count": 319,
     "metadata": {},
     "output_type": "execute_result"
    }
   ],
   "source": [
    "df_alcohol=df_merged.groupby('alcohol_status').agg({'median_order_days':['mean', 'min', 'max']})\n",
    "df_alcohol.loc[0:1,'alcohol_status']=['not alcohol drinker', 'alcohol drinker']\n",
    "df_alcohol"
   ]
  },
  {
   "cell_type": "code",
   "execution_count": 320,
   "id": "c6572175",
   "metadata": {},
   "outputs": [
    {
     "data": {
      "text/html": [
       "<div>\n",
       "<style scoped>\n",
       "    .dataframe tbody tr th:only-of-type {\n",
       "        vertical-align: middle;\n",
       "    }\n",
       "\n",
       "    .dataframe tbody tr th {\n",
       "        vertical-align: top;\n",
       "    }\n",
       "\n",
       "    .dataframe thead tr th {\n",
       "        text-align: left;\n",
       "    }\n",
       "\n",
       "    .dataframe thead tr:last-of-type th {\n",
       "        text-align: right;\n",
       "    }\n",
       "</style>\n",
       "<table border=\"1\" class=\"dataframe\">\n",
       "  <thead>\n",
       "    <tr>\n",
       "      <th></th>\n",
       "      <th colspan=\"3\" halign=\"left\">prices</th>\n",
       "      <th>alcohol_status</th>\n",
       "    </tr>\n",
       "    <tr>\n",
       "      <th></th>\n",
       "      <th>mean</th>\n",
       "      <th>min</th>\n",
       "      <th>max</th>\n",
       "      <th></th>\n",
       "    </tr>\n",
       "    <tr>\n",
       "      <th>alcohol_status</th>\n",
       "      <th></th>\n",
       "      <th></th>\n",
       "      <th></th>\n",
       "      <th></th>\n",
       "    </tr>\n",
       "  </thead>\n",
       "  <tbody>\n",
       "    <tr>\n",
       "      <th>0</th>\n",
       "      <td>7.792969</td>\n",
       "      <td>1.0</td>\n",
       "      <td>25.0</td>\n",
       "      <td>not alcohol drinker</td>\n",
       "    </tr>\n",
       "    <tr>\n",
       "      <th>1</th>\n",
       "      <td>7.792969</td>\n",
       "      <td>1.0</td>\n",
       "      <td>25.0</td>\n",
       "      <td>alcohol drinker</td>\n",
       "    </tr>\n",
       "  </tbody>\n",
       "</table>\n",
       "</div>"
      ],
      "text/plain": [
       "                  prices                  alcohol_status\n",
       "                    mean  min   max                     \n",
       "alcohol_status                                          \n",
       "0               7.792969  1.0  25.0  not alcohol drinker\n",
       "1               7.792969  1.0  25.0      alcohol drinker"
      ]
     },
     "execution_count": 320,
     "metadata": {},
     "output_type": "execute_result"
    }
   ],
   "source": [
    "df_alcohol=df_merged.groupby('alcohol_status').agg({'prices':['mean', 'min', 'max']})\n",
    "df_alcohol.loc[0:1,'alcohol_status']=['not alcohol drinker', 'alcohol drinker']\n",
    "df_alcohol"
   ]
  },
  {
   "cell_type": "markdown",
   "id": "7b82ac3d",
   "metadata": {},
   "source": [
    "# 08. Creating visualizations to show the distribution of profiles"
   ]
  },
  {
   "cell_type": "code",
   "execution_count": 326,
   "id": "5a7d31a5",
   "metadata": {},
   "outputs": [],
   "source": [
    "#Creating a subset with unique customers\n",
    "df_unique=df_merged.drop_duplicates(subset='user_id')"
   ]
  },
  {
   "cell_type": "code",
   "execution_count": 327,
   "id": "5e98e3cb",
   "metadata": {},
   "outputs": [
    {
     "data": {
      "text/plain": [
       "(205410, 42)"
      ]
     },
     "execution_count": 327,
     "metadata": {},
     "output_type": "execute_result"
    }
   ],
   "source": [
    "df_unique.shape"
   ]
  },
  {
   "cell_type": "code",
   "execution_count": 329,
   "id": "487bf496",
   "metadata": {},
   "outputs": [
    {
     "data": {
      "text/plain": [
       "Text(0, 0.5, 'number of customers')"
      ]
     },
     "execution_count": 329,
     "metadata": {},
     "output_type": "execute_result"
    },
    {
     "data": {
      "image/png": "[encoded data removed]",
      "text/plain": [
       "<Figure size 2016x1080 with 1 Axes>"
      ]
     },
     "metadata": {},
     "output_type": "display_data"
    }
   ],
   "source": [
    "#Setting script figure size to 28,15\n",
    "sns.set(rc = {'figure.figsize':(28,15)})\n",
    "#Creating a bar chart for age distribution of customers\n",
    "bar=df_unique['age_group'].value_counts().plot.bar(color='#1f77b4', fontsize=20)\n",
    "plt.title('Distribution of age for customers', fontsize=30)\n",
    "plt.xlabel('age group', fontsize=20)\n",
    "plt.ylabel('number of customers', fontsize=20)"
   ]
  },
  {
   "cell_type": "markdown",
   "id": "f30f4860",
   "metadata": {},
   "source": [
    "## b. Income Profile distribution"
   ]
  },
  {
   "cell_type": "code",
   "execution_count": 332,
   "id": "6666dc9a",
   "metadata": {},
   "outputs": [
    {
     "data": {
      "text/plain": [
       "Text(0, 0.5, 'number of customers')"
      ]
     },
     "execution_count": 332,
     "metadata": {},
     "output_type": "execute_result"
    },
    {
     "data": {
      "image/png": "[encoded data removed]",
      "text/plain": [
       "<Figure size 2016x1080 with 1 Axes>"
      ]
     },
     "metadata": {},
     "output_type": "display_data"
    }
   ],
   "source": [
    "#Histogram customer income profile\n",
    "hist=df_unique['income'].plot.hist(bins=20, color='#ff7f0e', fontsize=20)\n",
    "plt.title('Distribution of income for customers', fontsize=30)\n",
    "plt.xlabel('income', fontsize=20)\n",
    "plt.ylabel('number of customers', fontsize=20)"
   ]
  },
  {
   "cell_type": "markdown",
   "id": "6d4a7ef8",
   "metadata": {},
   "source": [
    "## c. Number of dependants Profile distribution"
   ]
  },
  {
   "cell_type": "code",
   "execution_count": 336,
   "id": "86453694",
   "metadata": {},
   "outputs": [
    {
     "data": {
      "text/html": [
       "<div>\n",
       "<style scoped>\n",
       "    .dataframe tbody tr th:only-of-type {\n",
       "        vertical-align: middle;\n",
       "    }\n",
       "\n",
       "    .dataframe tbody tr th {\n",
       "        vertical-align: top;\n",
       "    }\n",
       "\n",
       "    .dataframe thead th {\n",
       "        text-align: right;\n",
       "    }\n",
       "</style>\n",
       "<table border=\"1\" class=\"dataframe\">\n",
       "  <thead>\n",
       "    <tr style=\"text-align: right;\">\n",
       "      <th>dependant_flag</th>\n",
       "      <th>No dependants</th>\n",
       "      <th>Parent</th>\n",
       "    </tr>\n",
       "    <tr>\n",
       "      <th>dependant_flag</th>\n",
       "      <th></th>\n",
       "      <th></th>\n",
       "    </tr>\n",
       "  </thead>\n",
       "  <tbody>\n",
       "    <tr>\n",
       "      <th>No dependants</th>\n",
       "      <td>51394</td>\n",
       "      <td>0</td>\n",
       "    </tr>\n",
       "    <tr>\n",
       "      <th>Parent</th>\n",
       "      <td>0</td>\n",
       "      <td>154016</td>\n",
       "    </tr>\n",
       "  </tbody>\n",
       "</table>\n",
       "</div>"
      ],
      "text/plain": [
       "dependant_flag  No dependants  Parent\n",
       "dependant_flag                       \n",
       "No dependants           51394       0\n",
       "Parent                      0  154016"
      ]
     },
     "execution_count": 336,
     "metadata": {},
     "output_type": "execute_result"
    }
   ],
   "source": [
    "#Creating a crosstab for dependants and family status\n",
    "dependant=pd.crosstab(df_unique['dependant_flag'], df_unique['dependant_flag'])\n",
    "dependant"
   ]
  },
  {
   "cell_type": "code",
   "execution_count": 346,
   "id": "a65c8458",
   "metadata": {},
   "outputs": [
    {
     "data": {
      "text/html": [
       "<div>\n",
       "<style scoped>\n",
       "    .dataframe tbody tr th:only-of-type {\n",
       "        vertical-align: middle;\n",
       "    }\n",
       "\n",
       "    .dataframe tbody tr th {\n",
       "        vertical-align: top;\n",
       "    }\n",
       "\n",
       "    .dataframe thead th {\n",
       "        text-align: right;\n",
       "    }\n",
       "</style>\n",
       "<table border=\"1\" class=\"dataframe\">\n",
       "  <thead>\n",
       "    <tr style=\"text-align: right;\">\n",
       "      <th>dependant_flag</th>\n",
       "      <th>No dependants</th>\n",
       "      <th>Parent</th>\n",
       "    </tr>\n",
       "    <tr>\n",
       "      <th>marital_status</th>\n",
       "      <th></th>\n",
       "      <th></th>\n",
       "    </tr>\n",
       "  </thead>\n",
       "  <tbody>\n",
       "    <tr>\n",
       "      <th>divorced/widowed</th>\n",
       "      <td>17569</td>\n",
       "      <td>0</td>\n",
       "    </tr>\n",
       "    <tr>\n",
       "      <th>living with parents and siblings</th>\n",
       "      <td>0</td>\n",
       "      <td>9665</td>\n",
       "    </tr>\n",
       "    <tr>\n",
       "      <th>married</th>\n",
       "      <td>0</td>\n",
       "      <td>144351</td>\n",
       "    </tr>\n",
       "    <tr>\n",
       "      <th>single</th>\n",
       "      <td>33825</td>\n",
       "      <td>0</td>\n",
       "    </tr>\n",
       "  </tbody>\n",
       "</table>\n",
       "</div>"
      ],
      "text/plain": [
       "dependant_flag                    No dependants  Parent\n",
       "marital_status                                         \n",
       "divorced/widowed                          17569       0\n",
       "living with parents and siblings              0    9665\n",
       "married                                       0  144351\n",
       "single                                    33825       0"
      ]
     },
     "execution_count": 346,
     "metadata": {},
     "output_type": "execute_result"
    }
   ],
   "source": [
    "#Creating a crosstab for dependants and family status\n",
    "dependant=pd.crosstab(df_unique['marital_status'], df_unique['dependant_flag'])\n",
    "dependant"
   ]
  },
  {
   "cell_type": "code",
   "execution_count": 342,
   "id": "52c36134",
   "metadata": {},
   "outputs": [
    {
     "data": {
      "text/plain": [
       "<matplotlib.legend.Legend at 0x7fb372307790>"
      ]
     },
     "execution_count": 342,
     "metadata": {},
     "output_type": "execute_result"
    },
    {
     "data": {
      "image/png": "[encoded data removed]",
      "text/plain": [
       "<Figure size 2016x1080 with 1 Axes>"
      ]
     },
     "metadata": {},
     "output_type": "display_data"
    }
   ],
   "source": [
    "#Creating a bar chart for number of dependants\n",
    "bar2=dependant.plot.barh(color=['#9467bd', '#8c564b'], fontsize=20)\n",
    "plt.title('Family status of customers and number of their dependants', fontsize=30)\n",
    "plt.xlabel('number of customers', fontsize=20)\n",
    "plt.ylabel('family status', fontsize=20)\n",
    "plt.legend(fontsize=20)"
   ]
  },
  {
   "cell_type": "markdown",
   "id": "446a103f",
   "metadata": {},
   "source": [
    "## d. Baby item profile distribution"
   ]
  },
  {
   "cell_type": "code",
   "execution_count": 347,
   "id": "5d0b5c9c",
   "metadata": {},
   "outputs": [
    {
     "data": {
      "text/html": [
       "<div>\n",
       "<style scoped>\n",
       "    .dataframe tbody tr th:only-of-type {\n",
       "        vertical-align: middle;\n",
       "    }\n",
       "\n",
       "    .dataframe tbody tr th {\n",
       "        vertical-align: top;\n",
       "    }\n",
       "\n",
       "    .dataframe thead th {\n",
       "        text-align: right;\n",
       "    }\n",
       "</style>\n",
       "<table border=\"1\" class=\"dataframe\">\n",
       "  <thead>\n",
       "    <tr style=\"text-align: right;\">\n",
       "      <th>baby_status</th>\n",
       "      <th>0</th>\n",
       "      <th>1</th>\n",
       "    </tr>\n",
       "    <tr>\n",
       "      <th>marital_status</th>\n",
       "      <th></th>\n",
       "      <th></th>\n",
       "    </tr>\n",
       "  </thead>\n",
       "  <tbody>\n",
       "    <tr>\n",
       "      <th>divorced/widowed</th>\n",
       "      <td>14669</td>\n",
       "      <td>2900</td>\n",
       "    </tr>\n",
       "    <tr>\n",
       "      <th>living with parents and siblings</th>\n",
       "      <td>8085</td>\n",
       "      <td>1580</td>\n",
       "    </tr>\n",
       "    <tr>\n",
       "      <th>married</th>\n",
       "      <td>120628</td>\n",
       "      <td>23723</td>\n",
       "    </tr>\n",
       "    <tr>\n",
       "      <th>single</th>\n",
       "      <td>28304</td>\n",
       "      <td>5521</td>\n",
       "    </tr>\n",
       "  </tbody>\n",
       "</table>\n",
       "</div>"
      ],
      "text/plain": [
       "baby_status                            0      1\n",
       "marital_status                                 \n",
       "divorced/widowed                   14669   2900\n",
       "living with parents and siblings    8085   1580\n",
       "married                           120628  23723\n",
       "single                             28304   5521"
      ]
     },
     "execution_count": 347,
     "metadata": {},
     "output_type": "execute_result"
    }
   ],
   "source": [
    "#Creating a pie chart\n",
    "pd.crosstab(df_unique['marital_status'], df_unique['baby_status'])"
   ]
  },
  {
   "cell_type": "code",
   "execution_count": 348,
   "id": "f14d287f",
   "metadata": {},
   "outputs": [
    {
     "data": {
      "text/plain": [
       "0    171686\n",
       "1     33724\n",
       "Name: baby_status, dtype: int64"
      ]
     },
     "execution_count": 348,
     "metadata": {},
     "output_type": "execute_result"
    }
   ],
   "source": [
    "df_unique['baby_status'].value_counts()"
   ]
  },
  {
   "cell_type": "code",
   "execution_count": 349,
   "id": "ea3234aa",
   "metadata": {},
   "outputs": [
    {
     "data": {
      "text/plain": [
       "<AxesSubplot:>"
      ]
     },
     "execution_count": 349,
     "metadata": {},
     "output_type": "execute_result"
    },
    {
     "data": {
      "image/png": "[encoded data removed]",
      "text/plain": [
       "<Figure size 1296x576 with 1 Axes>"
      ]
     },
     "metadata": {},
     "output_type": "display_data"
    }
   ],
   "source": [
    "sns.set(rc = {'figure.figsize':(18,8)})\n",
    "#Pie chart of customers who have purchased baby items at least once\n",
    "baby_items=df_unique['baby_status'].value_counts()\n",
    "pie=baby_items.plot.pie(label='', labels=['never purchased baby items', 'purchased baby items at least once'],autopct=('%1.f%%'), colors=['#D2691E','#FF7F50'], textprops={'fontsize': 20})\n",
    "pie"
   ]
  },
  {
   "cell_type": "markdown",
   "id": "778673e4",
   "metadata": {},
   "source": [
    "## e. Pet Profile distribution"
   ]
  },
  {
   "cell_type": "code",
   "execution_count": 350,
   "id": "e0d97914",
   "metadata": {},
   "outputs": [
    {
     "data": {
      "text/plain": [
       "0    190428\n",
       "1     14982\n",
       "Name: pet_status, dtype: int64"
      ]
     },
     "execution_count": 350,
     "metadata": {},
     "output_type": "execute_result"
    }
   ],
   "source": [
    "df_unique['pet_status'].value_counts()"
   ]
  },
  {
   "cell_type": "code",
   "execution_count": 351,
   "id": "4c8e606a",
   "metadata": {},
   "outputs": [
    {
     "data": {
      "text/plain": [
       "<AxesSubplot:>"
      ]
     },
     "execution_count": 351,
     "metadata": {},
     "output_type": "execute_result"
    },
    {
     "data": {
      "image/png": "[encoded data removed]",
      "text/plain": [
       "<Figure size 1296x576 with 1 Axes>"
      ]
     },
     "metadata": {},
     "output_type": "display_data"
    }
   ],
   "source": [
    "sns.set(rc = {'figure.figsize':(18,8)})\n",
    "#Pie chart of customers who have purchased pet items at least once\n",
    "pet_items=df_unique['pet_status'].value_counts()\n",
    "pie=pet_items.plot.pie(label='', labels=['never purchased pet items', 'purchased pet items at least once'],autopct=('%1.f%%'), colors=['#D2691E','#FF7F50'], textprops={'fontsize': 20})\n",
    "pie"
   ]
  },
  {
   "cell_type": "markdown",
   "id": "7f13aab2",
   "metadata": {},
   "source": [
    "## f. Vegetarian profile distribution"
   ]
  },
  {
   "cell_type": "code",
   "execution_count": 353,
   "id": "4f53c8e7",
   "metadata": {},
   "outputs": [
    {
     "data": {
      "text/plain": [
       "1    192760\n",
       "0     12650\n",
       "Name: veggie_status, dtype: int64"
      ]
     },
     "execution_count": 353,
     "metadata": {},
     "output_type": "execute_result"
    }
   ],
   "source": [
    "df_unique['veggie_status'].value_counts()"
   ]
  },
  {
   "cell_type": "code",
   "execution_count": 355,
   "id": "bd6c79ef",
   "metadata": {},
   "outputs": [
    {
     "data": {
      "text/plain": [
       "<AxesSubplot:>"
      ]
     },
     "execution_count": 355,
     "metadata": {},
     "output_type": "execute_result"
    },
    {
     "data": {
      "image/png": "[encoded data removed]",
      "text/plain": [
       "<Figure size 1296x576 with 1 Axes>"
      ]
     },
     "metadata": {},
     "output_type": "display_data"
    }
   ],
   "source": [
    "#Creating a pie chart for customers who have bought meat least once\n",
    "veggie=df_unique['veggie_status'].value_counts()\n",
    "pie3=veggie.plot.pie(label='',labels=['purchased meat/seafood at least once', 'never purchased meat/seafood'],autopct=('%1.f%%'), colors=['#D2691E','#FF7F50'], textprops={'fontsize': 20})\n",
    "pie"
   ]
  },
  {
   "cell_type": "markdown",
   "id": "de5c3e1d",
   "metadata": {},
   "source": [
    "## g. Alcohol consumer profile distribution"
   ]
  },
  {
   "cell_type": "code",
   "execution_count": 356,
   "id": "fbcbd282",
   "metadata": {},
   "outputs": [
    {
     "data": {
      "text/plain": [
       "<AxesSubplot:>"
      ]
     },
     "execution_count": 356,
     "metadata": {},
     "output_type": "execute_result"
    },
    {
     "data": {
      "image/png": "[encoded data removed]",
      "text/plain": [
       "<Figure size 1296x576 with 1 Axes>"
      ]
     },
     "metadata": {},
     "output_type": "display_data"
    }
   ],
   "source": [
    "#Creating a pie chart for customers who purchased alcohol at least once\n",
    "alcohol=df_unique['alcohol_status'].value_counts()\n",
    "pie4=alcohol.plot.pie(label='', labels=['never purchased alcohol', 'purchased alcohol at least once'],autopct=('%1.f%%'), colors=['#D2691E','#FF7F50'], textprops={'fontsize': 20})\n",
    "pie"
   ]
  },
  {
   "cell_type": "markdown",
   "id": "90382c65",
   "metadata": {},
   "source": [
    "# 9. Exporting visualizations"
   ]
  },
  {
   "cell_type": "code",
   "execution_count": 357,
   "id": "abfa7193",
   "metadata": {},
   "outputs": [],
   "source": [
    "bar.figure.savefig(os.path.join(path, '04 Analysis', 'Visualizations', 'bar_age_group.png'))\n",
    "hist.figure.savefig(os.path.join(path, '04 Analysis', 'Visualizations', 'hist_income_distribution.png'))\n",
    "bar2.figure.savefig(os.path.join(path, '04 Analysis', 'Visualizations', 'bar_dependants.png'))"
   ]
  },
  {
   "cell_type": "code",
   "execution_count": null,
   "id": "3b11895b",
   "metadata": {},
   "outputs": [],
   "source": []
  }
 ],
 "metadata": {
  "kernelspec": {
   "display_name": "Python 3 (ipykernel)",
   "language": "python",
   "name": "python3"
  },
  "language_info": {
   "codemirror_mode": {
    "name": "ipython",
    "version": 3
   },
   "file_extension": ".py",
   "mimetype": "text/x-python",
   "name": "python",
   "nbconvert_exporter": "python",
   "pygments_lexer": "ipython3",
   "version": "3.9.12"
  }
 },
 "nbformat": 4,
 "nbformat_minor": 5
}
